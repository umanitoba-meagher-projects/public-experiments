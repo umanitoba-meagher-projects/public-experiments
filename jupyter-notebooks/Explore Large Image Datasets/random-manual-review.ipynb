{
 "cells": [
  {
   "cell_type": "markdown",
   "metadata": {},
   "source": [
    "<a target=\"_blank\" href=\"https://colab.research.google.com/github/mmeagher/experiments/blob/main/jupyter-notebooks/Explore%20Large%20Image%20Datasets/random-manual-review.ipynb\">\n",
    "  <img src=\"https://colab.research.google.com/assets/colab-badge.svg\" alt=\"Open In Colab\"/>\n",
    "</a>"
   ]
  },
  {
   "cell_type": "code",
   "execution_count": null,
   "metadata": {
    "id": "SfjcmKTJYWVW"
   },
   "outputs": [],
   "source": [
    "\"\"\"\n",
    "Author: Ryleigh J. Bruce\n",
    "Date: June 7, 2024\n",
    "\n",
    "Purpose: Copy a subset of images to a new folder for manual review.\n",
    "\n",
    "\n",
    "Note: The author generated this text in part with GPT-4,\n",
    "OpenAI’s large-scale language-generation model. Upon generating\n",
    "draft code, the authors reviewed, edited, and revised the code\n",
    "to their own liking and takes ultimate responsibility for\n",
    "the content of this code.\n",
    "\n",
    "\"\"\""
   ]
  },
  {
   "cell_type": "markdown",
   "metadata": {},
   "source": [
    "# Overview\n",
    "\n",
    "This notebook provides a workflow for selecting a random subset of images from a larger dataset for manual review. The goal in doing this is to facilitate the process of sampling, organizing, and visually inspecting images."
   ]
  },
  {
   "cell_type": "markdown",
   "metadata": {},
   "source": [
    "# Critical Uses & Adaptability\n",
    "\n",
    "## What the Notebook Can Be Used For:\n",
    "\n",
    "- Randomly sample and inspect images from large datasets.\n",
    "\n",
    "- Automate repetitive tasks and learn foundational concepts in working with image data.\n",
    "\n",
    "- Extend the workflow to include feature extraction or pre-processing steps. This can include extracting metadata, computing image statistics, or preparing data for downstream analysis.\n",
    "\n",
    "## How the Notebook Can Be Adapted:\n",
    "\n",
    "- The animal image dataset can be substituted with collections relevant to architectural contexts such as site photographs, plan scans, or spatial diagrams. The random sampling and visualization steps support unbiased review and documentation of spatial features.\n",
    "\n",
    "- Variables such as `source_dir`, `destination_dir`, `number_of_images`, and `images_to_display` can be modified to adjust the source and target locations, the number of images sampled, and the number of images displayed, tailoring the workflow to specific project requirements.\n",
    "\n",
    "- To use a different image dataset, change the `source_dir` and `destination_dir` variables in the cell labeled \"Step 2: Set your paths and parameters.\""
   ]
  },
  {
   "cell_type": "markdown",
   "metadata": {
    "id": "nl0n2j-iZfS5"
   },
   "source": [
    "### Mount the Notebook to Google Drive and Install Necessary Libraries"
   ]
  },
  {
   "cell_type": "markdown",
   "metadata": {
    "id": "MNV-yferZgLP"
   },
   "source": [
    "Here the drive module is imported, allowing the Colab environment to access files within Google Drive. The notebook is then mounted to Google Drive so that it can interact with the files."
   ]
  },
  {
   "cell_type": "code",
   "execution_count": null,
   "metadata": {
    "colab": {
     "base_uri": "https://localhost:8080/"
    },
    "executionInfo": {
     "elapsed": 22047,
     "status": "ok",
     "timestamp": 1717792825208,
     "user": {
      "displayName": "Ryleigh Bruce",
      "userId": "04866625339349492872"
     },
     "user_tz": 300
    },
    "id": "4Skyb0bWYJuZ",
    "outputId": "9baf7dbf-5c41-42b9-d6e4-19bfc4722a5b"
   },
   "outputs": [],
   "source": [
    "from google.colab import drive\n",
    "drive.mount('/content/drive')"
   ]
  },
  {
   "cell_type": "markdown",
   "metadata": {
    "id": "Ia1tRTAaasur"
   },
   "source": [
    "Here, the `os`, `shutil`, `random`, `Image`, and `matplotlib.pyplot` modules are being imported. The `os` module is critical for interacting with file directories and joining path components. The `shutil` module  will aid in automating copying files to a new directory, and the `random` module implements random number generators. The `Image` and `matplotlib.pyplot` modules will allow for image display after the files have been copied to a new directory."
   ]
  },
  {
   "cell_type": "code",
   "execution_count": null,
   "metadata": {
    "id": "udt-K-E0YKdW"
   },
   "outputs": [],
   "source": [
    "import os\n",
    "import shutil\n",
    "import random\n",
    "from PIL import Image\n",
    "import matplotlib.pyplot as plt"
   ]
  },
  {
   "cell_type": "markdown",
   "metadata": {
    "id": "L3DEqeOTa0Gi"
   },
   "source": [
    "### Define Directories and Number of Images"
   ]
  },
  {
   "cell_type": "markdown",
   "metadata": {
    "id": "uuy4dC3PY5Tn"
   },
   "source": [
    "In this module the source and destination directories are being defined, as well as the desired number of images to be copied to a new folder. The source directory should contain the path to the folder with the dataset that needs to be manually reviewed, while the destination directory will be the location the subset is copied to. The `number_of_images` variable can be altered according to the desired number of images."
   ]
  },
  {
   "cell_type": "code",
   "execution_count": null,
   "metadata": {
    "id": "wW1Ys72SZ-LQ"
   },
   "outputs": [],
   "source": [
    "# Step 2: Set your paths and parameters\n",
    "source_dir = '/content/drive/MyDrive/shared-data/Notebook datafiles/4370-entire-subset/small-animal-collection'\n",
    "destination_dir = '/content/drive/MyDrive/shared-data/Notebook datafiles/image-filter/Subset-review'\n",
    "number_of_images = 50  # Number of random images to copy\n",
    "images_to_display = 15 # Number of images to display"
   ]
  },
  {
   "cell_type": "markdown",
   "metadata": {
    "id": "VoWAbLJIb0ue"
   },
   "source": [
    "Here the `os` module is used to check if the destination directory already exists, and if it doesn’t the `os.makedirs()` function is used to create it."
   ]
  },
  {
   "cell_type": "code",
   "execution_count": null,
   "metadata": {
    "id": "2tURn5a0Z_oD"
   },
   "outputs": [],
   "source": [
    "# Create the destination directory if it doesn't exist\n",
    "if not os.path.exists(destination_dir):\n",
    "    os.makedirs(destination_dir)"
   ]
  },
  {
   "cell_type": "markdown",
   "metadata": {
    "id": "t2Vq9GH9a0s4"
   },
   "source": [
    "### List all Files and Select a Sample of Random Images"
   ]
  },
  {
   "cell_type": "markdown",
   "metadata": {
    "id": "0pXrPxwHa1QZ"
   },
   "source": [
    "This script creates a list called `all_files` containing the paths of all the files in the source directory. This is done by using the `os.path.join(source_dir, f)` function to concatenate `source_directory` and each entry `f` to create a full path from the file name, which is then added to the `all_files` list."
   ]
  },
  {
   "cell_type": "code",
   "execution_count": null,
   "metadata": {
    "id": "j7ZFI22vaBM6"
   },
   "outputs": [],
   "source": [
    "# Step 3: List all files in the source directory\n",
    "all_files = [f for f in os.listdir(source_dir) if os.path.isfile(os.path.join(source_dir, f))]"
   ]
  },
  {
   "cell_type": "markdown",
   "metadata": {
    "id": "BaeN9cNCa1zi"
   },
   "source": [
    "Here the `random` module is used to select a random sample of images from the newly created `all_files` list."
   ]
  },
  {
   "cell_type": "code",
   "execution_count": null,
   "metadata": {
    "id": "kcBlgwsNaDN4"
   },
   "outputs": [],
   "source": [
    "# Step 4: Select a random subset of images\n",
    "selected_files = random.sample(all_files, min(number_of_images, len(all_files)))"
   ]
  },
  {
   "cell_type": "markdown",
   "metadata": {
    "id": "tQp49JSIa2Wk"
   },
   "source": [
    "### Copy the Selected Files to the New Directory"
   ]
  },
  {
   "cell_type": "markdown",
   "metadata": {
    "id": "eat-xQFR7hIm"
   },
   "source": [
    "In this code block the join function from the `os` module is used to combine the source directory and filename in order to create a valid file path for copying to the new folder. The same is done with the destination directory. The `shutil` module is used to copy the selected files over to the destination file path while attempting to preserve the associated metadata."
   ]
  },
  {
   "cell_type": "code",
   "execution_count": null,
   "metadata": {
    "id": "sYeoU38BaFn4"
   },
   "outputs": [],
   "source": [
    "# Step 5: Copy the selected images to the destination directory\n",
    "for file_name in selected_files:\n",
    "    source_path = os.path.join(source_dir, file_name)\n",
    "    destination_path = os.path.join(destination_dir, file_name)\n",
    "    shutil.copy2(source_path, destination_path)"
   ]
  },
  {
   "cell_type": "markdown",
   "metadata": {
    "id": "KPBT3YqCa2yL"
   },
   "source": [
    "This print statement informs the user when the script is completed and shows the destination folder path."
   ]
  },
  {
   "cell_type": "code",
   "execution_count": null,
   "metadata": {
    "colab": {
     "base_uri": "https://localhost:8080/"
    },
    "executionInfo": {
     "elapsed": 222,
     "status": "ok",
     "timestamp": 1717793027791,
     "user": {
      "displayName": "Ryleigh Bruce",
      "userId": "04866625339349492872"
     },
     "user_tz": 300
    },
    "id": "zinstLSJYGAq",
    "outputId": "d418dd1c-7b56-4346-a307-80360e5990e6"
   },
   "outputs": [],
   "source": [
    "print(f'Copied {len(selected_files)} images to {destination_dir} for manual review.')"
   ]
  },
  {
   "cell_type": "markdown",
   "metadata": {
    "id": "zVFSdosBifr_"
   },
   "source": [
    "### Display a Sample of the Copied Images"
   ]
  },
  {
   "cell_type": "markdown",
   "metadata": {
    "id": "vKlR3G2YjOty"
   },
   "source": [
    "The code initially uses the `random` library to select a random subset of images from the destination directory, with a maximum number of images equal to the number of images in the destination directory."
   ]
  },
  {
   "cell_type": "markdown",
   "metadata": {
    "id": "L_nXnQsXG-6G"
   },
   "source": [
    "Then the `matplotlib` library is used to generate a 20x10 pixel figure in which to display the selected subset. The script iterates over the selected files and for each image uses the `Image.open()` function to display the image in a subplot on the grid. The `fig.add_subplot()` function ensures that a new subplot is created for each image, and determines the number of rows and columns. In this example `fig.add_subplot(3, 5, i+1)` results in a grid with three rows and five columns."
   ]
  },
  {
   "cell_type": "markdown",
   "metadata": {
    "id": "yvZm39tZHCrj"
   },
   "source": [
    "The `axis(off)` function is used to turn off the axis ticks and labels for each subplot, and the `set_title()` function displays the name for each image in size 8 font. `pad=5` creates a padding of five pixels between the image and the title."
   ]
  },
  {
   "cell_type": "code",
   "execution_count": null,
   "metadata": {
    "id": "OHXvdMrFjQ4u"
   },
   "outputs": [],
   "source": [
    "# Display a subset of images\n",
    "selected_files_subset = random.sample(selected_files, min(images_to_display, len(selected_files)))\n",
    "fig = plt.figure(figsize=(20, 10))\n",
    "for i, file_name in enumerate(selected_files_subset):\n",
    "    img = Image.open(os.path.join(destination_dir, file_name))\n",
    "    ax = fig.add_subplot(3, 5, i+1)  # Assuming a grid of 3x5 images\n",
    "    ax.imshow(img)\n",
    "    ax.axis('off')\n",
    "    ax.set_title(file_name, fontsize=8, pad=5)  # Note the increase in pad"
   ]
  },
  {
   "cell_type": "markdown",
   "metadata": {
    "id": "e3APkgrvjUTv"
   },
   "source": [
    "This code block uses the `maplotlib` library to adjust the display layout of the images. The second line, `plt.tight_layout(pad=1)`, ensures that the subplots fit snugly within the figure created earlier and the `pad` parameter adjusts the spacing between subplots. The final line, `plt.show()`, displays the figure."
   ]
  },
  {
   "cell_type": "code",
   "execution_count": null,
   "metadata": {
    "colab": {
     "base_uri": "https://localhost:8080/",
     "height": 670,
     "output_embedded_package_id": "1bxfEVqbT2z0H8Cc88FfJFZv3PZF0ALmL"
    },
    "executionInfo": {
     "elapsed": 12133,
     "status": "ok",
     "timestamp": 1717794620564,
     "user": {
      "displayName": "Ryleigh Bruce",
      "userId": "04866625339349492872"
     },
     "user_tz": 300
    },
    "id": "KVJOrX7AbXwD",
    "outputId": "ac2a19e1-764e-4b64-b699-b2b961db55f7"
   },
   "outputs": [],
   "source": [
    "plt.subplots_adjust(wspace=0.5, hspace=0.5)  # Here we set wspace and hspace to 0.5\n",
    "plt.tight_layout(pad=1)  # And set pad in tight_layout to 1\n",
    "\n",
    "plt.show()"
   ]
  }
 ],
 "metadata": {
  "colab": {
   "collapsed_sections": [
    "nl0n2j-iZfS5",
    "L3DEqeOTa0Gi",
    "t2Vq9GH9a0s4",
    "tQp49JSIa2Wk",
    "zVFSdosBifr_"
   ],
   "provenance": []
  },
  "kernelspec": {
   "display_name": "Python 3",
   "name": "python3"
  },
  "language_info": {
   "name": "python"
  }
 },
 "nbformat": 4,
 "nbformat_minor": 0
}
