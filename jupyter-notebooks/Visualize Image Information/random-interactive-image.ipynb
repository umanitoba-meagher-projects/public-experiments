{
 "cells": [
  {
   "cell_type": "markdown",
   "metadata": {},
   "source": [
    "<a target=\"_blank\" href=\"https://colab.research.google.com/github/umanitoba-meagher-projects/public-experiments/blob/main/jupyter-notebooks/Visualize%20Image%20Information/random-interactive-image.ipynb\">\n",
    "  <img src=\"https://colab.research.google.com/assets/colab-badge.svg\" alt=\"Open In Colab\"/>\n",
    "</a>"
   ]
  },
  {
   "cell_type": "code",
   "execution_count": null,
   "metadata": {
    "colab": {
     "base_uri": "https://localhost:8080/",
     "height": 70
    },
    "collapsed": true,
    "executionInfo": {
     "elapsed": 154,
     "status": "ok",
     "timestamp": 1717458277883,
     "user": {
      "displayName": "Ryleigh Bruce",
      "userId": "04866625339349492872"
     },
     "user_tz": 300
    },
    "id": "gnyaaw-paBnK",
    "outputId": "4f69d7d4-3847-4781-b6dd-b2599c634f18"
   },
   "outputs": [],
   "source": [
    "\"\"\"\n",
    "Author: Ryleigh J. Bruce\n",
    "Date: June 4, 2024\n",
    "\n",
    "Purpose: Selecting a random image from a folder and generating an interactive visualization.\n",
    "\n",
    "\n",
    "Note: The author generated this text in part with GPT-4,\n",
    "OpenAI’s large-scale language-generation model. Upon generating\n",
    "draft code, the authors reviewed, edited, and revised the code\n",
    "to their own liking and takes ultimate responsibility for\n",
    "the content of this code.\n",
    "\n",
    "\"\"\""
   ]
  },
  {
   "cell_type": "markdown",
   "metadata": {
    "id": "oOBYCKdTTamX"
   },
   "source": [
    "# Introduction\n",
    "\n",
    "This notebook provides a workflow for selecting a random image from a specified directory and generating an interactive visualization of that image using Python. The primary purpose is to quickly sample and review images from large collections, supporting tasks such as quality control, dataset exploration, and visual inspection."
   ]
  },
  {
   "cell_type": "markdown",
   "metadata": {},
   "source": [
    "# Critical Uses & Adaptability\n",
    "\n",
    "## What the Notebook Can Be Used For:\n",
    "\n",
    "- Randomly sample and visually inspect images from large datasets, supporting initial exploration and identification of dataset characteristics. The random selection process is handled in the function that lists and selects files using the `random.choice` method.\n",
    "\n",
    "- Learn about Python scripting, file operations, and interactive visualization. \n",
    "  \n",
    "- Automate repetitive tasks in working with image data and visualization.\n",
    "\n",
    "## How the Notebook Can Be Adapted:\n",
    "\n",
    "- Substitute the image dataset with collections relevant to architectural contexts, such as site photographs, plan scans, or spatial diagrams. The random sampling and visualization steps support unbiased review and documentation of spatial features.\n",
    "\n",
    "- Modify parameters such as `directory` in the `interactive_visualization` function to swap datasets, adjust the source location, and change supported file extensions and visualization details, tailoring the workflow to specific project requirements.\n",
    "\n",
    "## Examples of Variables You Can Change:\n",
    "\n",
    "- **Image Directory Path**:  \n",
    "  In Cell 16 and Cell 21, the `directory` argument in `interactive_visualization(...)` specifies the folder containing your images. Change this string to point to any folder in your Google Drive with images you want to visualize.\n",
    "  - Example:  \n",
    "    `interactive_visualization('/content/drive/your-folder/your-images')`\n",
    "- **Supported Image Extensions**:  \n",
    "  In Cell 13 and Cell 20, the list of file extensions in `image_files = [file for file in os.listdir(directory) if file.endswith(('.png', '.jpg', '.jpeg'))]` can be modified to include other formats (e.g., `.bmp`, `.tiff`) if needed.\n",
    "- **Visualization Details**:  \n",
    "  You can customize the Plotly figure in the `interactive_visualization` function (Cell 13 and Cell 20), such as changing the title or adding more layout options.\n",
    "\n",
    "## Ideas for Spatial Design Tasks\n",
    "\n",
    "- **Dataset Exploration**:  \n",
    "  Quickly preview random samples from large spatial datasets (e.g., aerial imagery, site photos) to assess data quality or variety.\n",
    "- **Design Precedent Review**:  \n",
    "  Randomly display images from a collection of precedent studies or reference projects to inspire design discussions.\n",
    "- **Material/Texture Library Browsing**:  \n",
    "  Use the notebook to randomly sample from a folder of material or texture images for use in renderings or visualizations.\n",
    "- **Site Analysis**:  \n",
    "  Visualize random site photos or drone images to support site inventory and analysis tasks.\n",
    "- **Presentation Preparation**:  \n",
    "  Select random images for inclusion in presentations, ensuring a diverse and unbiased selection from your dataset.\n",
    "\n",
    "*Tip: To see a new random image, simply re-run the cell that calls `interactive_visualization`.*"
   ]
  },
  {
   "cell_type": "markdown",
   "metadata": {
    "id": "_UX0j1upTpX8"
   },
   "source": [
    "## Module: Mount the Notebook to Google Drive and Install Necessary Libraries"
   ]
  },
  {
   "cell_type": "markdown",
   "metadata": {},
   "source": [
    "Here the drive module is imported, allowing the Colab environment to access files within Google Drive. The notebook is then mounted to Google Drive so that it can interact with the files."
   ]
  },
  {
   "cell_type": "code",
   "execution_count": null,
   "metadata": {
    "colab": {
     "base_uri": "https://localhost:8080/"
    },
    "executionInfo": {
     "elapsed": 25401,
     "status": "ok",
     "timestamp": 1717518364142,
     "user": {
      "displayName": "Ryleigh Bruce",
      "userId": "04866625339349492872"
     },
     "user_tz": 300
    },
    "id": "sAxsthyRTHVV",
    "outputId": "7f1fd261-f7f8-45eb-de1d-a29511c1b86b"
   },
   "outputs": [],
   "source": [
    "from google.colab import drive\n",
    "drive.mount('/content/drive')"
   ]
  },
  {
   "cell_type": "markdown",
   "metadata": {
    "id": "kHqc08-0aY5g"
   },
   "source": [
    "In the following code block, the Plotly Express, os, PIL, NumPy, and random packages are imported. These are critical for image processing and generating more complex visualizations."
   ]
  },
  {
   "cell_type": "code",
   "execution_count": null,
   "metadata": {
    "id": "5w5P3m2EaKdu"
   },
   "outputs": [],
   "source": [
    "import plotly.express as px\n",
    "import os\n",
    "from PIL import Image\n",
    "import numpy as np\n",
    "import random"
   ]
  },
  {
   "cell_type": "markdown",
   "metadata": {
    "id": "3piLv-mOe9sY"
   },
   "source": [
    "## Module: Loading the Image"
   ]
  },
  {
   "cell_type": "markdown",
   "metadata": {
    "id": "IM3VomriaZmb"
   },
   "source": [
    "This code uses the Image module from the PIL library imported previously. The ‘with’ block ensures that the file is properly closed after it is no longer needed, preventing resource leakage and other associated issues."
   ]
  },
  {
   "cell_type": "markdown",
   "metadata": {
    "id": "uVAbWdk02F7p"
   },
   "source": [
    "Within the ‘with’ block the image is converted to a three-dimensional array which allows for further image processing."
   ]
  },
  {
   "cell_type": "code",
   "execution_count": null,
   "metadata": {
    "id": "vLy77zpKaLrB"
   },
   "outputs": [],
   "source": [
    "def load_image(image_path):\n",
    "    \"\"\"Load an image from a file path.\"\"\"\n",
    "    with Image.open(image_path) as img:\n",
    "        return np.array(img)"
   ]
  },
  {
   "cell_type": "markdown",
   "metadata": {
    "id": "8v72xJqAfFQg"
   },
   "source": [
    "## Module: Selecting a Random Image for Display"
   ]
  },
  {
   "cell_type": "markdown",
   "metadata": {
    "id": "D_8dz9XracII"
   },
   "source": [
    "This code block defines the `interactive_visualization` function, which takes the `directory` parameter. This parameter is defined in later code as the path to the folder containing the desired images."
   ]
  },
  {
   "cell_type": "markdown",
   "metadata": {
    "id": "BBBFK-CQ2XNH"
   },
   "source": [
    "A list called `image_files` is created, and the `os` module is used to obtain a list of all the files in the given directory. Only files that end in common image file extensions are included. The final list contains the names of all the image files in the directory in string format. If the `image_files` list is empty (meaning there are no files in the directory ending in the specified file extensions) then the phrase “No images found in the directory.” is returned."
   ]
  },
  {
   "cell_type": "markdown",
   "metadata": {
    "id": "A8VySUaH2d_9"
   },
   "source": [
    "An image file is selected to display at random using the `random` module imported previously. The image is then displayed using Plotly Express (abbreviated here as `px`). The `title_text` ensures that the title includes the file name of the randomly selected image file. The final line, `fig.show()`, displays the image within the notebook."
   ]
  },
  {
   "cell_type": "code",
   "execution_count": null,
   "metadata": {
    "id": "ukHwn_FraRRk"
   },
   "outputs": [],
   "source": [
    "def interactive_visualization(directory):\n",
    "    # Getting the list of image file names that ends with the specified extensions\n",
    "    image_files = [file for file in os.listdir(directory) if file.endswith(('.png', '.jpg', '.jpeg'))]\n",
    "\n",
    "    if not image_files:\n",
    "        print(\"No images found in the directory.\")\n",
    "        return\n",
    "\n",
    "    # Select a random image from the list of image files\n",
    "    random_image_file = random.choice(image_files)\n",
    "\n",
    "    # Load the random image\n",
    "    image = load_image(os.path.join(directory, random_image_file))\n",
    "\n",
    "    # Display the image using Plotly\n",
    "    fig = px.imshow(image)\n",
    "    fig.update_layout(title_text=f'Randomly Selected Image: {random_image_file}')\n",
    "    fig.show()"
   ]
  },
  {
   "cell_type": "markdown",
   "metadata": {
    "id": "fEMKg9EMadKX"
   },
   "source": [
    "Here the `directory` parameter is defined as the path to the desired image set."
   ]
  },
  {
   "cell_type": "code",
   "execution_count": null,
   "metadata": {
    "colab": {
     "base_uri": "https://localhost:8080/",
     "height": 542,
     "output_embedded_package_id": "1YT9yh9rDYBIrUOnK8XGZ3e_vcrLxlWzA"
    },
    "executionInfo": {
     "elapsed": 56010,
     "status": "ok",
     "timestamp": 1717518430428,
     "user": {
      "displayName": "Ryleigh Bruce",
      "userId": "04866625339349492872"
     },
     "user_tz": 300
    },
    "id": "Y9LYVwG9aW7f",
    "outputId": "09d9a03b-ad2c-4cc0-c90d-e0ca0562a247"
   },
   "outputs": [],
   "source": [
    "# Example usage\n",
    "interactive_visualization('/content/drive/MyDrive/shared-data/Notebook datafiles/deer_100/')"
   ]
  }
 ],
 "metadata": {
  "colab": {
   "authorship_tag": "ABX9TyPGusjfS6KoxEaKLeGTyuKy",
   "collapsed_sections": [
    "oOBYCKdTTamX",
    "3piLv-mOe9sY",
    "8v72xJqAfFQg"
   ],
   "provenance": []
  },
  "kernelspec": {
   "display_name": "Python 3",
   "name": "python3"
  },
  "language_info": {
   "name": "python"
  }
 },
 "nbformat": 4,
 "nbformat_minor": 0
}