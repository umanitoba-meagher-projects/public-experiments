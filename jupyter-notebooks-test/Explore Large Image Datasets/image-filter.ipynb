{
  "cells": [
    {
      "cell_type": "markdown",
      "id": "adca5f15",
      "metadata": {},
      "source": [
        "<a target=\"_blank\" href=\"https://colab.research.google.com/github/umanitoba-meagher-projects/public-experiments/blob/main/jupyter-notebooks/Explore%20Large%20Image%20Datasets/image-filter.ipynb\">\n",
        "  <img src=\"https://colab.research.google.com/assets/colab-badge.svg\" alt=\"Open In Colab\"/>\n",
        "</a>"
      ]
    },
    {
      "cell_type": "code",
      "execution_count": null,
      "id": "gnyaaw-paBnK",
      "metadata": {
        "colab": {
          "base_uri": "https://localhost:8080/",
          "height": 70
        },
        "collapsed": true,
        "executionInfo": {
          "elapsed": 154,
          "status": "ok",
          "timestamp": 1717458277883,
          "user": {
            "displayName": "Ryleigh Bruce",
            "userId": "04866625339349492872"
          },
          "user_tz": 300
        },
        "id": "gnyaaw-paBnK",
        "outputId": "4f69d7d4-3847-4781-b6dd-b2599c634f18"
      },
      "outputs": [],
      "source": [
        "\"\"\"\n",
        "Author: Ryleigh J. Bruce\n",
        "Date: June 4, 2024\n",
        "\n",
        "Purpose: To sort through a directory of images and copy files over to a new folder based on a specific string in the file name. A text file containing a list of all of the copied files is produced alongside the folder.\n",
        "\n",
        "\n",
        "Note: The author generated this text in part with GPT-4,\n",
        "OpenAI\u2019s large-scale language-generation model. Upon generating\n",
        "draft code, the authors reviewed, edited, and revised the code\n",
        "to their own liking and takes ultimate responsibility for\n",
        "the content of this code.\n",
        "\n",
        "\"\"\""
      ]
    },
    {
      "cell_type": "markdown",
      "id": "sXfrID6AySXw",
      "metadata": {
        "id": "sXfrID6AySXw"
      },
      "source": [
        "**NOTE: These scripts will need to be modified to extract the necessary information from metadata. Delete once necessary adjustements have been completed.**"
      ]
    },
    {
      "cell_type": "markdown",
      "id": "31afc501",
      "metadata": {},
      "source": [
        "# Overview\n",
        "\n",
        "This notebook describes methods for filtering, organizing, and reviewing large collections of image files based on specific criteria embedded in their filenames. The primary purpose is to automate the process of identifying images that match user-defined strings\u2014such as species names, dates, or camera locations\u2014within a directory, and then copy those files to a new destination folder."
      ]
    },
    {
      "cell_type": "markdown",
      "id": "69bd4abe",
      "metadata": {},
      "source": [
        "# Critical Uses & Adaptability\n",
        "\n",
        "## What the Notebooks Can Be Used For:\n",
        "\n",
        "- Exploration and filtering of large image datasets based on filename patterns: this is useful for curating datasets for specific analyses or experiments, and for quickly assessing the distribution of images matching certain criteria.\n",
        "- File management, data filtering, and visualization in the context of image datasets: this is useful for automating repetitive tasks.\n",
        "- By filtering images according to embedded metadata in filenames, datasets can be prepared for feature extraction or downstream analysis. The approach can be extended to select images with particular attributes relevant to research questions.\n",
        "\n",
        "## How the Notebook Can Be Adapted:\n",
        "\n",
        "- The workflow can be adapted for projects involving spatial analysis or architectural site studies by modifying the search parameters to reflect spatial features, site codes, or architectural elements present in filenames. This supports organization and review of spatially referenced image collections.\n",
        "- The notebook can be used with different datasets by changing the `source_directory` and `destination_directory` variables."
      ]
    },
    {
      "cell_type": "markdown",
      "id": "oOBYCKdTTamX",
      "metadata": {
        "id": "oOBYCKdTTamX"
      },
      "source": [
        "### Mount the Notebook to Google Drive and Install Necessary Libraries"
      ]
    },
    {
      "cell_type": "markdown",
      "id": "_UX0j1upTpX8",
      "metadata": {
        "id": "_UX0j1upTpX8"
      },
      "source": "Here the Borealis data access functions are defined, allowing the notebook to download and access files from the Borealis public data repository without requiring authentication. The notebook sets up functions for dataset access, file downloading, and zip file handling."
    },
    {
      "cell_type": "code",
      "execution_count": null,
      "id": "sAxsthyRTHVV",
      "metadata": {
        "colab": {
          "base_uri": "https://localhost:8080/"
        },
        "executionInfo": {
          "elapsed": 31485,
          "status": "ok",
          "timestamp": 1718303278640,
          "user": {
            "displayName": "Ryleigh Bruce",
            "userId": "04866625339349492872"
          },
          "user_tz": 300
        },
        "id": "sAxsthyRTHVV",
        "outputId": "ec5f90ca-0dd5-41dc-f612-615282a8f9e2"
      },
      "outputs": [],
      "source": [
        "# Borealis API configuration\nimport requests\nimport zipfile\n\nBOREALIS_SERVER = \"https://borealisdata.ca\"\n\ndef get_public_dataset_info(persistent_id):\n    \"\"\"\n    Get information about a public dataset\n    \"\"\"\n    url = f\"{BOREALIS_SERVER}/api/datasets/:persistentId/\"\n    params = {\"persistentId\": persistent_id}\n\n    response = requests.get(url, params=params)\n\n    if response.status_code == 200:\n        dataset_info = response.json()\n    else:\n        print(f\"Cannot access dataset: {response.status_code}\")\n        return None\n    \"\"\"\n    Get a list of files in a public dataset\n    \"\"\"\n    # Access the list of files from the dataset_info dictionary\n    files_list = dataset_info['data']['latestVersion']['files']\n\n    # Create an empty list to store file information\n    file_info_list = []\n\n    # Iterate through the files list and append file ID and filename to the list\n    for file_info in files_list:\n        file_id = file_info['dataFile']['id']\n        filename = file_info['dataFile']['filename']\n        file_info_list.append({\"file_id\": file_id, \"filename\": filename})\n\n    return file_info_list\n\ndef download_public_file(file_id, save_path=\"./\"):\n    \"\"\"\n    Download a specific public file from a dataset by its file ID\n    No authentication required\n    \"\"\"\n    url = f\"{BOREALIS_SERVER}/api/access/datafile/{file_id}\"\n\n    response = requests.get(url, stream=True)\n\n    if response.status_code == 200:\n        # Determine filename from headers or URL\n        filename = None\n        if \"Content-Disposition\" in response.headers:\n            cd = response.headers[\"Content-Disposition\"]\n            # Try to extract filename from content disposition\n            if \"filename=\" in cd:\n                filename = cd.split(\"filename=\")[1].strip('\"')\n\n        # Fallback to extracting from URL if header not available or malformed\n        if not filename:\n             filename = url.split(\"/\")[-1]\n\n        file_path = f\"{save_path}/{filename}\"\n\n        with open(file_path, 'wb') as f:\n            for chunk in response.iter_content(chunk_size=8192):\n                f.write(chunk)\n\n        print(f\"\u2705 File downloaded to {file_path}\")\n        return file_path\n    else:\n        print(f\"\u274c Error {response.status_code}: File may be restricted or not found\")\n        return None\n\ndef is_zip_file(filepath):\n    \"\"\"\n    Checks if a file is a valid zip file.\n    \"\"\"\n    return zipfile.is_zipfile(filepath)\n\ndef unzip_file(filepath, extract_path=\"./\"):\n    \"\"\"\n    Unzips a zip file to a specified path and returns the name of the top-level extracted folder.\n    Returns None if not a zip file or extraction fails.\n    \"\"\"\n    if is_zip_file(filepath):\n        try:\n            with zipfile.ZipFile(filepath, 'r') as zip_ref:\n                # Get the name of the top-level directory within the zip\n                # Assumes there is a single top-level directory\n                top_level_folder = None\n                for file_info in zip_ref.infolist():\n                    parts = file_info.filename.split('/')\n                    if parts[0] and len(parts) > 1:\n                        top_level_folder = parts[0]\n                        break # Assuming the first entry gives the top-level folder\n\n                zip_ref.extractall(extract_path)\n                print(f\"\u2705 Successfully unzipped {filepath} to {extract_path}\")\n                return top_level_folder\n\n        except Exception as e:\n            print(f\"\u274c Error unzipping {filepath}: {e}\")\n            return None\n    else:\n        print(f\"\u2139\ufe0f {filepath} is not a valid zip file.\")\n        return None\n\n# Initialize Borealis dataset access\npublic_doi = \"doi:10.5683/SP3/H3HGWF\"\n\n# Download the 4370-entire-subset.zip file which contains the image collection\ndataset_files = get_public_dataset_info(public_doi)\nsubset_file_id = None\nfor file_info in dataset_files:\n    if file_info['filename'] == '4370-entire-subset.zip':\n        subset_file_id = file_info['file_id']\n        break\n\nif subset_file_id:\n    print(\"Downloading 4370-entire-subset.zip...\")\n    downloaded_file = download_public_file(subset_file_id, \"./\")\n    if downloaded_file and is_zip_file(downloaded_file):\n        extracted_folder = unzip_file(downloaded_file, \"./\")\n        print(f\"Data extracted to: {extracted_folder}\")\nelse:\n    print(\"\u274c Could not find 4370-entire-subset.zip in the dataset\")"
      ]
    },
    {
      "cell_type": "markdown",
      "id": "vIQAdGsPq-Ps",
      "metadata": {
        "id": "vIQAdGsPq-Ps"
      },
      "source": [
        "The `os` and `shutil` Python modules allow for file processing within the Colab environment, specifically reading, writing, copying, and moving files."
      ]
    },
    {
      "cell_type": "code",
      "execution_count": null,
      "id": "7a0763ed-acc7-4b62-baa1-6157dda43dca",
      "metadata": {
        "id": "7a0763ed-acc7-4b62-baa1-6157dda43dca"
      },
      "outputs": [],
      "source": [
        "import os\n",
        "import shutil\n",
        "import random\n",
        "from PIL import Image\n",
        "import matplotlib.pyplot as plt"
      ]
    },
    {
      "cell_type": "markdown",
      "id": "a0a5ce9c-85ee-42c7-9cc1-3803a709f731",
      "metadata": {
        "id": "a0a5ce9c-85ee-42c7-9cc1-3803a709f731"
      },
      "source": [
        "# File Search Based on Species"
      ]
    },
    {
      "cell_type": "markdown",
      "id": "ayK5c6_DHkF2",
      "metadata": {
        "id": "ayK5c6_DHkF2"
      },
      "source": [
        "### Define the Directories and Search Parameters"
      ]
    },
    {
      "cell_type": "markdown",
      "id": "gtVa60_6os5E",
      "metadata": {
        "id": "gtVa60_6os5E"
      },
      "source": [
        "This code block defines the source folder, the destination folder, and the file path for the text file that will be produced alongside the new image folder."
      ]
    },
    {
      "cell_type": "code",
      "execution_count": null,
      "id": "eac2c094-4ea0-47e1-aa26-104268b83132",
      "metadata": {
        "id": "eac2c094-4ea0-47e1-aa26-104268b83132"
      },
      "outputs": [],
      "source": [
        "# Define the source directory where images are stored\nsource_directory = './4370-entire-subset/small-animal-collection'\n# Define the destination directory where deer images will be copied\ndestination_directory = \"./image-filter/racoons\"\n# Define the text file path where filenames will be saved\noutput_text_file = \"./image-filter/Racoon Images.txt\""
      ]
    },
    {
      "cell_type": "markdown",
      "id": "nbcmTort-Nr6",
      "metadata": {
        "id": "nbcmTort-Nr6"
      },
      "source": [
        "This line determines what the later script is looking for in the file names. Here, the string that has been specified is \u2018raccoon\u2019."
      ]
    },
    {
      "cell_type": "code",
      "execution_count": null,
      "id": "d_T11DDR-Jpi",
      "metadata": {
        "id": "d_T11DDR-Jpi"
      },
      "outputs": [],
      "source": [
        "#define the species that is being searched for\n",
        "species = 'raccoon'"
      ]
    },
    {
      "cell_type": "markdown",
      "id": "UddgV77zH4Q0",
      "metadata": {
        "id": "UddgV77zH4Q0"
      },
      "source": [
        "### Sort the Dataset and Save the Selected Images"
      ]
    },
    {
      "cell_type": "markdown",
      "id": "yy-RtrzvotgC",
      "metadata": {
        "id": "yy-RtrzvotgC"
      },
      "source": [
        "In this code block the os module is used to check for the destination directory, and will create one if it does not exist."
      ]
    },
    {
      "cell_type": "markdown",
      "id": "9EylWd89IGYy",
      "metadata": {
        "id": "9EylWd89IGYy"
      },
      "source": [
        "The code `os.makedirs(destination_directory` uses the `os` module to create a directory at the specified path. The `exist_ok=True` portion of the script ensures that the code will not fail if a directory already exists, and instead will move on to the following modules."
      ]
    },
    {
      "cell_type": "markdown",
      "id": "BIt-dYnaIIM2",
      "metadata": {
        "id": "BIt-dYnaIIM2"
      },
      "source": [
        "The `images = []` initializes the images list to be used in the making of a text file in later code."
      ]
    },
    {
      "cell_type": "code",
      "execution_count": null,
      "id": "2f5e60f6-1685-40c3-babe-a888cb95795e",
      "metadata": {
        "id": "2f5e60f6-1685-40c3-babe-a888cb95795e"
      },
      "outputs": [],
      "source": [
        "# Ensure that the destination directory exists, create if it does not\n",
        "os.makedirs(destination_directory, exist_ok=True)\n",
        "\n",
        "images = []"
      ]
    },
    {
      "cell_type": "markdown",
      "id": "juijfY4Wot17",
      "metadata": {
        "id": "juijfY4Wot17"
      },
      "source": [
        "The script begins by opening a text file that will be used to record the names of the selected images. The `os.wal` function from the `os` module is used to go through all of the files at the supplied source directory, while checking for the specified species in the file name (here it is searching for \u2018racoon\u2019). When files matching that criteria is found the name of the file is written in the text file and the file is copied to the destination directory."
      ]
    },
    {
      "cell_type": "markdown",
      "id": "hniubjS8IKjB",
      "metadata": {
        "id": "hniubjS8IKjB"
      },
      "source": [
        "The final print statement notifies us that the script has completed and the images have been copied to a new folder."
      ]
    },
    {
      "cell_type": "markdown",
      "id": "K_2M3qzgIMYL",
      "metadata": {
        "id": "K_2M3qzgIMYL"
      },
      "source": [
        "The \u2018except\u2019 block ensures that any files that aren\u2019t able to be copied to the destination folder are printed along with the associated error code."
      ]
    },
    {
      "cell_type": "code",
      "execution_count": null,
      "id": "1e2e362b-5c60-4641-b756-7bc5eb5ea9da",
      "metadata": {
        "colab": {
          "base_uri": "https://localhost:8080/"
        },
        "executionInfo": {
          "elapsed": 225256,
          "status": "ok",
          "timestamp": 1718303596835,
          "user": {
            "displayName": "Ryleigh Bruce",
            "userId": "04866625339349492872"
          },
          "user_tz": 300
        },
        "id": "1e2e362b-5c60-4641-b756-7bc5eb5ea9da",
        "outputId": "1b3edcb5-7ba9-4ae8-8d7f-8cba6fb1db30"
      },
      "outputs": [],
      "source": [
        "# Open the text file for writing\n",
        "with open(output_text_file, \"w\") as file:\n",
        "    # Walk through the all files in the source directory\n",
        "    for dirpath, dirnames, filenames in os.walk(source_directory):\n",
        "# Filter for files that include 'Raccoon' in their name and are image files\n",
        "        for filename in filenames:\n",
        "            if species in filename.lower() and filename.lower().endswith(('.png', '.jpg', '.jpeg', '.JPG')):\n",
        "                # Full path of the file\n",
        "                full_file_path = os.path.join(dirpath, filename)\n",
        "                # Add the file to the list of images\n",
        "                images.append(full_file_path)\n",
        "                # Write filename to the text file\n",
        "                file.write(filename + \"\\n\")\n",
        "                # Copy the file to the destination directory\n",
        "                shutil.copy(full_file_path, os.path.join(destination_directory, filename))\n",
        "                try:\n",
        "                    shutil.copy(full_file_path, os.path.join(destination_directory, filename))\n",
        "                except Exception as e:\n",
        "                    print(f\"Failed to copy {filename}. Reason: {str(e)}\")\n",
        "\n",
        "print(\"Files have been filtered and copied.\")"
      ]
    },
    {
      "cell_type": "markdown",
      "id": "5ehBHpVIH9w-",
      "metadata": {
        "id": "5ehBHpVIH9w-"
      },
      "source": [
        "### Display a Subset of the Filtered Images"
      ]
    },
    {
      "cell_type": "markdown",
      "id": "idogx5G5yGv1",
      "metadata": {
        "id": "idogx5G5yGv1"
      },
      "source": [
        "In this code block the `subset_size` is the number of images that will be displayed within the grid. Here the value is set to 15. The subset is selected randomly using the `random.sample` function."
      ]
    },
    {
      "cell_type": "code",
      "execution_count": null,
      "id": "Ese6EhdUykZO",
      "metadata": {
        "id": "Ese6EhdUykZO"
      },
      "outputs": [],
      "source": [
        "# Display a subset of images in grid format\n",
        "subset_size = 15\n",
        "selected_files_subset = random.sample(images, min(subset_size, len(images)))"
      ]
    },
    {
      "cell_type": "markdown",
      "id": "PumiyWIYzDDD",
      "metadata": {
        "id": "PumiyWIYzDDD"
      },
      "source": [
        "`plt.figure(figsize=(20, 10))` sets the size of the figure to 20 units wide and 10 units tall. The columns and rows values have been set to 5 and 3 respectively."
      ]
    },
    {
      "cell_type": "code",
      "execution_count": null,
      "id": "XpHS5a40ymlm",
      "metadata": {
        "colab": {
          "base_uri": "https://localhost:8080/",
          "height": 34
        },
        "executionInfo": {
          "elapsed": 174,
          "status": "ok",
          "timestamp": 1718303307079,
          "user": {
            "displayName": "Ryleigh Bruce",
            "userId": "04866625339349492872"
          },
          "user_tz": 300
        },
        "id": "XpHS5a40ymlm",
        "outputId": "52d5ff82-3c9f-45f0-e6c5-7f12088fde9c"
      },
      "outputs": [],
      "source": [
        "fig = plt.figure(figsize=(20, 10)) # Size of the entire figure\n",
        "columns = 5\n",
        "rows = 3"
      ]
    },
    {
      "cell_type": "markdown",
      "id": "GpTcsR3OzDXA",
      "metadata": {
        "id": "GpTcsR3OzDXA"
      },
      "source": [
        "This code block loops over each file in the `selected_files_subset` and opens them using `PIL`. It then adds a new subplot to the figure for each image and displays it in the current subplot. `axis(\u2018off\u2019)` removes the x and y axes from the subplot to maintain legibility. `ax.set_title(os.path.basename(file_path), fontsize=8, pad=5)` sets the title of the subplot as the filename of the image in size 8 font with a padding of five pixels from the image."
      ]
    },
    {
      "cell_type": "code",
      "execution_count": null,
      "id": "cTsFTi7Kyn2t",
      "metadata": {
        "id": "cTsFTi7Kyn2t"
      },
      "outputs": [],
      "source": [
        "for i, file_path in enumerate(selected_files_subset):\n",
        "    img = Image.open(file_path)\n",
        "    ax = fig.add_subplot(rows, columns, i + 1)\n",
        "    ax.imshow(img)\n",
        "    ax.axis('off')\n",
        "    ax.set_title(os.path.basename(file_path), fontsize=8, pad=5)"
      ]
    },
    {
      "cell_type": "markdown",
      "id": "g9L6veW8zDqj",
      "metadata": {
        "id": "g9L6veW8zDqj"
      },
      "source": [
        "Here `plt.subplots_adjust(wspace=0.5, hspace=0.5)` is used to maintain uniform spacing between the subplots by setting the width space (`wspace`) and height space (`hspace`) to 0.5 units. `plt.tight_layout(pad=1)` automatically adjusts the canvas to ensure that there is no overlapping content, and the gridded images are then displayed."
      ]
    },
    {
      "cell_type": "code",
      "execution_count": null,
      "id": "r8dIUBTlxjIr",
      "metadata": {
        "colab": {
          "base_uri": "https://localhost:8080/",
          "height": 956,
          "output_embedded_package_id": "1iEFxgP2GUUvSHRb0HvcdCgFq0YL0u3gO"
        },
        "executionInfo": {
          "elapsed": 25456,
          "status": "ok",
          "timestamp": 1718303637810,
          "user": {
            "displayName": "Ryleigh Bruce",
            "userId": "04866625339349492872"
          },
          "user_tz": 300
        },
        "id": "r8dIUBTlxjIr",
        "outputId": "d52fb8dc-8aed-4eef-9f7a-3a1fe27c2076"
      },
      "outputs": [],
      "source": [
        "# Display a subset of images in grid format\n",
        "subset_size = 15\n",
        "selected_files_subset = random.sample(images, min(subset_size, len(images)))\n",
        "\n",
        "fig = plt.figure(figsize=(20, 10)) # Size of the entire figure\n",
        "columns = 5\n",
        "rows = 3\n",
        "\n",
        "for i, file_path in enumerate(selected_files_subset):\n",
        "    img = Image.open(file_path)\n",
        "    ax = fig.add_subplot(rows, columns, i + 1)\n",
        "    ax.imshow(img)\n",
        "    ax.axis('off')\n",
        "    ax.set_title(os.path.basename(file_path), fontsize=8, pad=5)\n",
        "\n",
        "# Adjust spacing\n",
        "plt.subplots_adjust(wspace=0.5, hspace=0.5)\n",
        "plt.tight_layout(pad=1)\n",
        "\n",
        "plt.show()"
      ]
    },
    {
      "cell_type": "markdown",
      "id": "783a51d0-5970-4298-ade1-5228746d0ef9",
      "metadata": {
        "id": "783a51d0-5970-4298-ade1-5228746d0ef9"
      },
      "source": [
        "## Search Files Based on Date"
      ]
    },
    {
      "cell_type": "markdown",
      "id": "ioyJThh_IWHh",
      "metadata": {
        "id": "ioyJThh_IWHh"
      },
      "source": [
        "### Define the Directories and Search Parameters"
      ]
    },
    {
      "cell_type": "markdown",
      "id": "vRporsnC9k8S",
      "metadata": {
        "id": "vRporsnC9k8S"
      },
      "source": [
        "This script functions and looks largely the same as the previous file search script, aside from changing the string the script is searching for in the file names."
      ]
    },
    {
      "cell_type": "code",
      "execution_count": null,
      "id": "9337706c-bd30-41bc-af21-73fcdb29c649",
      "metadata": {
        "id": "9337706c-bd30-41bc-af21-73fcdb29c649"
      },
      "outputs": [],
      "source": [
        "# Define the source directory where images are stored\nsource_directory = './4370-entire-subset/small-animal-collection'\n# Define the destination directory where images will be copied\ndestination_directory = './image-filter/June 3rd 2020'\n# Define the text file path where filenames will be saved\noutput_text_file = './image-filter/June 3rd 2020 Images.txt'"
      ]
    },
    {
      "cell_type": "markdown",
      "id": "wjiLgeMb-Z37",
      "metadata": {
        "id": "wjiLgeMb-Z37"
      },
      "source": [
        "It is critical to format the date the same way that it is formatted in the file names, or else the search will return no images."
      ]
    },
    {
      "cell_type": "code",
      "execution_count": null,
      "id": "dcfdb225-d446-401e-b459-1cd8e0e8e9d6",
      "metadata": {
        "id": "dcfdb225-d446-401e-b459-1cd8e0e8e9d6"
      },
      "outputs": [],
      "source": [
        "# Define the date we are searching for in the filename\n",
        "date_to_search = \"2020-06-03\""
      ]
    },
    {
      "cell_type": "markdown",
      "id": "xwC5wYjLIXbV",
      "metadata": {
        "id": "xwC5wYjLIXbV"
      },
      "source": [
        "### Sort the Dataset and Save the Selected Images"
      ]
    },
    {
      "cell_type": "markdown",
      "id": "HRx6qPcv-aM9",
      "metadata": {
        "id": "HRx6qPcv-aM9"
      },
      "source": [
        "The remainder of the script remains the same, aside from the `species` variable being replaced by the `date_to_search` variable."
      ]
    },
    {
      "cell_type": "code",
      "execution_count": null,
      "id": "ea3bbd98-7317-44f4-b338-478200058c34",
      "metadata": {
        "colab": {
          "base_uri": "https://localhost:8080/"
        },
        "executionInfo": {
          "elapsed": 1147521,
          "status": "ok",
          "timestamp": 1718049593439,
          "user": {
            "displayName": "Ryleigh Bruce",
            "userId": "04866625339349492872"
          },
          "user_tz": 300
        },
        "id": "ea3bbd98-7317-44f4-b338-478200058c34",
        "outputId": "6d5f7645-bfa7-4747-d7a3-4674c9147fd9"
      },
      "outputs": [],
      "source": [
        "# Ensure that the destination directory exists, create if it does not\n",
        "os.makedirs(destination_directory, exist_ok=True)\n",
        "\n",
        "images = []\n",
        "\n",
        "# Open the text file for writing\n",
        "with open(output_text_file, \"w\") as file:\n",
        "    # Walk through the all files in the source directory\n",
        "    for dirpath, dirnames, filenames in os.walk(source_directory):\n",
        "# Filter for files that include 'Raccoon' in their name and are image files\n",
        "        for filename in filenames:\n",
        "            if date_to_search in filename.lower() and filename.lower().endswith(('.png', '.jpg', '.jpeg', '.JPG')):\n",
        "                # Full path of the file\n",
        "                full_file_path = os.path.join(dirpath, filename)\n",
        "                # Add the file to the list of images\n",
        "                images.append(full_file_path)\n",
        "                # Write filename to the text file\n",
        "                file.write(filename + \"\\n\")\n",
        "                # Copy the file to the destination directory\n",
        "                shutil.copy(full_file_path, os.path.join(destination_directory, filename))\n",
        "                try:\n",
        "                    shutil.copy(full_file_path, os.path.join(destination_directory, filename))\n",
        "                except Exception as e:\n",
        "                    print(f\"Failed to copy {filename}. Reason: {str(e)}\")\n",
        "\n",
        "print(\"Files have been filtered and copied.\")"
      ]
    },
    {
      "cell_type": "markdown",
      "id": "WLr7nbPkIhls",
      "metadata": {
        "id": "WLr7nbPkIhls"
      },
      "source": [
        "### Display a Subset of the Filtered Images"
      ]
    },
    {
      "cell_type": "markdown",
      "id": "Yl3lYBOO3PQ3",
      "metadata": {
        "id": "Yl3lYBOO3PQ3"
      },
      "source": [
        "A randomly selected subset of images can now be displayed using the script from the previous module to ensure that the script is functioning properly:"
      ]
    },
    {
      "cell_type": "code",
      "execution_count": null,
      "id": "n1VQHJOxqn2X",
      "metadata": {
        "colab": {
          "base_uri": "https://localhost:8080/",
          "height": 907,
          "output_embedded_package_id": "1YBL2EWzQnmdg1a-xvx1keTShz0WwmYXu"
        },
        "executionInfo": {
          "elapsed": 22140,
          "status": "ok",
          "timestamp": 1718050217471,
          "user": {
            "displayName": "Ryleigh Bruce",
            "userId": "04866625339349492872"
          },
          "user_tz": 300
        },
        "id": "n1VQHJOxqn2X",
        "outputId": "f2bd4499-caad-45d6-e0fd-adabfaade568"
      },
      "outputs": [],
      "source": [
        "# Display a subset of images in grid format\n",
        "subset_size = 15\n",
        "selected_files_subset = random.sample(images, min(subset_size, len(images)))\n",
        "\n",
        "fig = plt.figure(figsize=(20, 10)) # Size of the entire figure\n",
        "columns = 5\n",
        "rows = 3\n",
        "\n",
        "for i, file_path in enumerate(selected_files_subset):\n",
        "    img = Image.open(file_path)\n",
        "    ax = fig.add_subplot(rows, columns, i + 1)\n",
        "    ax.imshow(img)\n",
        "    ax.axis('off')\n",
        "    ax.set_title(os.path.basename(file_path), fontsize=8, pad=5)\n",
        "\n",
        "# Adjust spacing\n",
        "plt.subplots_adjust(wspace=0.5, hspace=0.5)\n",
        "plt.tight_layout(pad=1)\n",
        "\n",
        "plt.show()"
      ]
    },
    {
      "cell_type": "markdown",
      "id": "0jQwTG3JIlAX",
      "metadata": {
        "id": "0jQwTG3JIlAX"
      },
      "source": [
        "# File Search based on Location"
      ]
    },
    {
      "cell_type": "markdown",
      "id": "eHFb5o8IIpI-",
      "metadata": {
        "id": "eHFb5o8IIpI-"
      },
      "source": [
        "### Define the Directories and Search Parameters"
      ]
    },
    {
      "cell_type": "markdown",
      "id": "zHpS0YKCK6pm",
      "metadata": {
        "id": "zHpS0YKCK6pm"
      },
      "source": [
        "As long as the desired variable is in the file name, this script can be modified to search files based on a range of variables."
      ]
    },
    {
      "cell_type": "code",
      "execution_count": null,
      "id": "0hhV7SSbIsLc",
      "metadata": {
        "id": "0hhV7SSbIsLc"
      },
      "outputs": [],
      "source": [
        "# Define the source directory where images are stored\nsource_directory = './4370-entire-subset/small-animal-collection'\n# Define the destination directory where images will be copied\ndestination_directory = './image-filter/camera2'\n# Define the text file path where filenames will be saved\noutput_text_file = './image-filter/camera2/Camera 2 Images.txt'"
      ]
    },
    {
      "cell_type": "markdown",
      "id": "AxmFtitTK7Uh",
      "metadata": {
        "id": "AxmFtitTK7Uh"
      },
      "source": [
        "Here the script searches for and copies all images taken at the \u2018camera2\u2019 site."
      ]
    },
    {
      "cell_type": "code",
      "execution_count": null,
      "id": "u-tugUNcIsyx",
      "metadata": {
        "id": "u-tugUNcIsyx"
      },
      "outputs": [],
      "source": [
        "# Define the date we are searching for in the filename\n",
        "camera_location = \"camera2\""
      ]
    },
    {
      "cell_type": "markdown",
      "id": "dsfWw3N0Is3c",
      "metadata": {
        "id": "dsfWw3N0Is3c"
      },
      "source": [
        "### Sort the Dataset and Save the Selected Images"
      ]
    },
    {
      "cell_type": "markdown",
      "id": "M9RfWLeVK7yN",
      "metadata": {
        "id": "M9RfWLeVK7yN"
      },
      "source": [
        "The remainder of the script remains the same, aside from the `date_to_search` variable being replaced by the `camera_location` variable."
      ]
    },
    {
      "cell_type": "code",
      "execution_count": null,
      "id": "5BJUcfz9IutG",
      "metadata": {
        "colab": {
          "base_uri": "https://localhost:8080/"
        },
        "executionInfo": {
          "elapsed": 2104975,
          "status": "ok",
          "timestamp": 1718045703348,
          "user": {
            "displayName": "Ryleigh Bruce",
            "userId": "04866625339349492872"
          },
          "user_tz": 300
        },
        "id": "5BJUcfz9IutG",
        "outputId": "befb83ac-d276-4fd5-e8c1-48d5698f2ce5"
      },
      "outputs": [],
      "source": [
        "# Ensure that the destination directory exists, create if it does not\n",
        "os.makedirs(destination_directory, exist_ok=True)\n",
        "\n",
        "images = []\n",
        "\n",
        "# Open the text file for writing\n",
        "with open(output_text_file, \"w\") as file:\n",
        "    # Walk through the all files in the source directory\n",
        "    for dirpath, dirnames, filenames in os.walk(source_directory):\n",
        "# Filter for files that include 'Raccoon' in their name and are image files\n",
        "        for filename in filenames:\n",
        "            if camera_location in filename.lower() and filename.lower().endswith(('.png', '.jpg', '.jpeg', '.JPG')):\n",
        "                # Full path of the file\n",
        "                full_file_path = os.path.join(dirpath, filename)\n",
        "                # Add the file to the list of images\n",
        "                images.append(full_file_path)\n",
        "                # Write filename to the text file\n",
        "                file.write(filename + \"\\n\")\n",
        "                # Copy the file to the destination directory\n",
        "                shutil.copy(full_file_path, os.path.join(destination_directory, filename))\n",
        "                try:\n",
        "                    shutil.copy(full_file_path, os.path.join(destination_directory, filename))\n",
        "                except Exception as e:\n",
        "                    print(f\"Failed to copy {filename}. Reason: {str(e)}\")\n",
        "\n",
        "print(\"Files have been filtered and copied.\")"
      ]
    },
    {
      "cell_type": "markdown",
      "id": "juwAB24nIvqn",
      "metadata": {
        "id": "juwAB24nIvqn"
      },
      "source": [
        "### Display a Subset of the Filtered Images"
      ]
    },
    {
      "cell_type": "markdown",
      "id": "K226PTvx3abG",
      "metadata": {
        "id": "K226PTvx3abG"
      },
      "source": [
        "A randomly selected subset of images can now be displayed using the script from the previous modules to ensure that the script is functioning properly:"
      ]
    },
    {
      "cell_type": "code",
      "execution_count": null,
      "id": "Ohh2rlwFpxA_",
      "metadata": {
        "colab": {
          "base_uri": "https://localhost:8080/",
          "height": 907,
          "output_embedded_package_id": "1xnjZ-ivigEL98jDbZcDI842QtK5R8Oih"
        },
        "executionInfo": {
          "elapsed": 25247,
          "status": "ok",
          "timestamp": 1718048391817,
          "user": {
            "displayName": "Ryleigh Bruce",
            "userId": "04866625339349492872"
          },
          "user_tz": 300
        },
        "id": "Ohh2rlwFpxA_",
        "outputId": "a56a10be-7b4c-4e3a-9d40-bda43248a20c"
      },
      "outputs": [],
      "source": [
        "# Display a subset of images in grid format\n",
        "subset_size = 15\n",
        "selected_files_subset = random.sample(images, min(subset_size, len(images)))\n",
        "\n",
        "fig = plt.figure(figsize=(20, 10)) # Size of the entire figure\n",
        "columns = 5\n",
        "rows = 3\n",
        "\n",
        "for i, file_path in enumerate(selected_files_subset):\n",
        "    img = Image.open(file_path)\n",
        "    ax = fig.add_subplot(rows, columns, i + 1)\n",
        "    ax.imshow(img)\n",
        "    ax.axis('off')\n",
        "    ax.set_title(os.path.basename(file_path), fontsize=8, pad=5)\n",
        "\n",
        "# Adjust spacing\n",
        "plt.subplots_adjust(wspace=0.5, hspace=0.5)\n",
        "plt.tight_layout(pad=1)\n",
        "\n",
        "plt.show()"
      ]
    }
  ],
  "metadata": {
    "colab": {
      "collapsed_sections": [
        "a0a5ce9c-85ee-42c7-9cc1-3803a709f731",
        "ayK5c6_DHkF2",
        "UddgV77zH4Q0",
        "5ehBHpVIH9w-",
        "783a51d0-5970-4298-ade1-5228746d0ef9",
        "ioyJThh_IWHh",
        "xwC5wYjLIXbV",
        "WLr7nbPkIhls",
        "0jQwTG3JIlAX",
        "eHFb5o8IIpI-",
        "dsfWw3N0Is3c",
        "juwAB24nIvqn"
      ],
      "provenance": []
    },
    "kernelspec": {
      "display_name": "Python 3 (ipykernel)",
      "language": "python",
      "name": "python3"
    },
    "language_info": {
      "codemirror_mode": {
        "name": "ipython",
        "version": 3
      },
      "file_extension": ".py",
      "mimetype": "text/x-python",
      "name": "python",
      "nbconvert_exporter": "python",
      "pygments_lexer": "ipython3",
      "version": "3.12.3"
    }
  },
  "nbformat": 4,
  "nbformat_minor": 5
}