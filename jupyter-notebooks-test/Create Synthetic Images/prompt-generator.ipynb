{
  "cells": [
    {
      "cell_type": "markdown",
      "metadata": {},
      "source": [
        "<a target=\"_blank\" href=\"https://colab.research.google.com/github/umanitoba-meagher-projects/public-experiments/blob/main/jupyter-notebooks/Create%20Synthetic%20Images/prompt-generator.ipynb\">\n",
        "  <img src=\"https://colab.research.google.com/assets/colab-badge.svg\" alt=\"Open In Colab\"/>\n",
        "</a>"
      ]
    },
    {
      "cell_type": "code",
      "execution_count": null,
      "metadata": {
        "id": "WhQgmtjVQ4vN"
      },
      "outputs": [],
      "source": [
        "\"\"\"\n",
        "Author: A.V. Ronquillo\n",
        "Date: July 25, 2024\n",
        "\n",
        "## Purpose: This notebook is a detailed guide containing modules for a Python script that is tasked with prompt generation.\n",
        "## Note: Note: The author generated this text in part with GPT-4,\n",
        "OpenAI\u2019s large-scale language-generation model. Upon generating\n",
        "draft code, the author reviewed, edited, and revised the code\n",
        "to their own liking and takes ultimate responsibility for\n",
        "the content of this code.\n",
        "\n",
        "\"\"\""
      ]
    },
    {
      "cell_type": "markdown",
      "metadata": {},
      "source": [
        "# Introduction\n",
        "\n",
        "This notebook explains methods for generating text prompts for image synthesis, tailored for use with models such as Stable Diffusion. The notebook is a guide through the process of constructing a large, diverse set of prompts that describe various animal activities and positions."
      ]
    },
    {
      "cell_type": "markdown",
      "metadata": {},
      "source": [
        "# Critical Uses & Adaptability\n",
        "\n",
        "## What the Notebooks Can Be Used For:\n",
        "\n",
        "- **Dataset Exploration:** The notebook can be used to systematically generate and examine a wide range of textual prompts, supporting the exploration of possible image scenarios for dataset creation or augmentation. This is particularly relevant for tasks that require controlled variation in image content.\n",
        "\n",
        "- **Educational Purposes & Demonstrations:** The notebook serves as a resource for understanding how Python scripts and code modules can be employed in the context of image-related machine learning tasks.\n",
        "\n",
        "- **Feature Extraction:** By generating prompts that describe specific activities and positions, the notebook can assist in the creation of datasets that facilitate feature extraction or analysis in downstream machine learning models. The structure of the prompts can be tailored to highlight particular attributes or behaviors.\n",
        "\n",
        "## How the Notebook Can Be Adapted:\n",
        "\n",
        "- **Integration with Spatial Design & Architectural Studies:** The methodology can be extended to generate prompts relevant to spatial arrangements, site analysis, or design scenarios. By modifying the activity and position variables, it's possible to adapt the workflow to describe spatial features, object placements, or environmental contexts in various datasets relevant to design.\n",
        "\n",
        "- **Variables & Customization:** The notebook's variables, such as the lists of activities and positions (see the cell defining `activities` and `positions`) can be edited to reflect different subjects, actions, or spatial descriptors."
      ]
    },
    {
      "cell_type": "markdown",
      "metadata": {
        "id": "HPdd1UGHRCy3"
      },
      "source": [
        "## Importing Necessary Libraries"
      ]
    },
    {
      "cell_type": "markdown",
      "metadata": {
        "id": "HBwJc0PdRG1k"
      },
      "source": "`itertools` provides building blocks for constructing iterators for efficient looping. In this script, it is used to generate Cartesian products, which are all possible combinations of activities and positions. Importing `random` allows scripts to generate random numbers and shuffling data, in this instance, it is used to randomize the order of generated prompts.\n\nThe `os` library simply integrates settings that allows the script to interact with operating systems like directory creations and constructing file paths. The `requests` library enables HTTP requests for downloading data from the Borealis repository, and `zipfile` allows for handling compressed data files."
    },
    {
      "cell_type": "code",
      "execution_count": null,
      "metadata": {
        "id": "41ObmLAkRG9l"
      },
      "outputs": [],
      "source": [
        "import itertools\nimport random\nimport os\nimport requests\nimport zipfile"
      ]
    },
    {
      "cell_type": "markdown",
      "metadata": {
        "id": "9URGTlhERIX9"
      },
      "source": "# Borealis Data Access & Define File Paths"
    },
    {
      "cell_type": "markdown",
      "metadata": {
        "id": "4R9yvKt3RSnF"
      },
      "source": "The following code sets up access to the Borealis data repository. Borealis is a public data repository that hosts datasets without requiring authentication. The code includes functions to access dataset information, download files, and handle zip archives."
    },
    {
      "cell_type": "code",
      "execution_count": null,
      "metadata": {
        "id": "UOtKRGUGRSvb"
      },
      "outputs": [],
      "source": [
        "# Borealis API configuration\nBOREALIS_SERVER = \"https://borealisdata.ca\"\n\ndef get_public_dataset_info(persistent_id):\n    \"\"\"\n    Get information about a public dataset\n    \"\"\"\n    url = f\"{BOREALIS_SERVER}/api/datasets/:persistentId/\"\n    params = {\"persistentId\": persistent_id}\n\n    response = requests.get(url, params=params)\n\n    if response.status_code == 200:\n        dataset_info = response.json()\n    else:\n        print(f\"Cannot access dataset: {response.status_code}\")\n        return None\n    \"\"\"\n    Get a list of files in a public dataset\n    \"\"\"\n    # Access the list of files from the dataset_info dictionary\n    files_list = dataset_info['data']['latestVersion']['files']\n\n    # Create an empty list to store file information\n    file_info_list = []\n\n    # Iterate through the files list and append file ID and filename to the list\n    for file_info in files_list:\n        file_id = file_info['dataFile']['id']\n        filename = file_info['dataFile']['filename']\n        file_info_list.append({\"file_id\": file_id, \"filename\": filename})\n\n    return file_info_list\n\ndef download_public_file(file_id, save_path=\"./\"):\n    \"\"\"\n    Download a specific public file from a dataset by its file ID\n    No authentication required\n    \"\"\"\n    url = f\"{BOREALIS_SERVER}/api/access/datafile/{file_id}\"\n\n    response = requests.get(url, stream=True)\n\n    if response.status_code == 200:\n        # Determine filename from headers or URL\n        filename = None\n        if \"Content-Disposition\" in response.headers:\n            cd = response.headers[\"Content-Disposition\"]\n            # Try to extract filename from content disposition\n            if \"filename=\" in cd:\n                filename = cd.split(\"filename=\")[1].strip('\"')\n\n        # Fallback to extracting from URL if header not available or malformed\n        if not filename:\n             filename = url.split(\"/\")[-1]\n\n        file_path = f\"{save_path}/{filename}\"\n\n        with open(file_path, 'wb') as f:\n            for chunk in response.iter_content(chunk_size=8192):\n                f.write(chunk)\n\n        print(f\"\u2705 File downloaded to {file_path}\")\n        return file_path\n    else:\n        print(f\"\u274c Error {response.status_code}: File may be restricted or not found\")\n        return None\n\ndef is_zip_file(filepath):\n    \"\"\"\n    Checks if a file is a valid zip file.\n    \"\"\"\n    return zipfile.is_zipfile(filepath)\n\ndef unzip_file(filepath, extract_path=\"./\"):\n    \"\"\"\n    Unzips a zip file to a specified path and returns the name of the top-level extracted folder.\n    Returns None if not a zip file or extraction fails.\n    \"\"\"\n    if is_zip_file(filepath):\n        try:\n            with zipfile.ZipFile(filepath, 'r') as zip_ref:\n                # Get the name of the top-level directory within the zip\n                # Assumes there is a single top-level directory\n                top_level_folder = None\n                for file_info in zip_ref.infolist():\n                    parts = file_info.filename.split('/')\n                    if parts[0] and len(parts) > 1:\n                        top_level_folder = parts[0]\n                        break # Assuming the first entry gives the top-level folder\n\n                zip_ref.extractall(extract_path)\n                print(f\"\u2705 Successfully unzipped {filepath} to {extract_path}\")\n                return top_level_folder\n\n        except Exception as e:\n            print(f\"\u274c Error unzipping {filepath}: {e}\")\n            return None\n    else:\n        print(f\"\u2139\ufe0f {filepath} is not a valid zip file.\")\n        return None\n\n# Initialize Borealis dataset access\npublic_doi = \"doi:10.5683/SP3/H3HGWF\"\nprint(\"Borealis dataset initialized for animal notebook data.\")"
      ]
    },
    {
      "cell_type": "markdown",
      "metadata": {
        "id": "Pt--4lV8Wmi1"
      },
      "source": "The `output_folder` defines the local path where the output file will be saved. Since we're using Borealis data access instead of Google Drive, files are stored locally in the current working directory.\n`os.makedirs(output_folder, exist_ok=True)` creates the directory specified by output folder. If the directory already exists, the `exist_ok=True` parameter prevents an error from being raised, ensuring that the folder structure is in place before attempting to save the file. The output path is then combined with the filename `squirrel_prompts7.txt` by using `os.path.join`. However, in this instance, the filename can be changed for customization to `your_file_name.txt` This creates a full path for the output file, ensuring that it is saved in the correct location."
    },
    {
      "cell_type": "code",
      "execution_count": null,
      "metadata": {
        "id": "ro8T4wnLWm2l"
      },
      "outputs": [],
      "source": [
        "# Define the output folder and file path\noutput_folder = './output_prompts'\nos.makedirs(output_folder, exist_ok=True)\noutput_file_path = os.path.join(output_folder, \"squirrel_prompts7.txt\")    # Can be changed to \"your_file_name_.txt\""
      ]
    },
    {
      "cell_type": "markdown",
      "metadata": {
        "id": "zstb-0_mWoek"
      },
      "source": [
        "# Generating Prompts through Sentence Parameters"
      ]
    },
    {
      "cell_type": "markdown",
      "metadata": {
        "id": "soXwyhR-Zje1"
      },
      "source": [
        "The process of generating the prompts is executed in this module. The sentence parameters revolve around different conditions. Firstly, the snippet of code uses an `activities` arguement for the creation of a list of various verbs describing different actions or states an animal might be engaged in. For example, useful verbs include \"walking\", \"foraging\", \"running\", or \"looking around\". Secondly, the `positions` arguement creates a list describing different possible positions or scaling factors for the animal within the image. These descriptions are used to specify how the animal should be sized or positioned. Lastly, these conditions will be used to integrate into a `base_prompt`. This base sentence is the initial part of each prompt, providing a consistent context for the description of the animal. In this instance it describes a \"realistic photograph\" of a \"singular squirrel\" without any background."
      ]
    },
    {
      "cell_type": "code",
      "execution_count": null,
      "metadata": {
        "id": "MnR5R8WpZjzs"
      },
      "outputs": [],
      "source": [
        "def generate_all_prompts():\n",
        "    # Fox activities (verbs)\n",
        "    activities = [\"walking\", \"foraging\", \"up close\", \"standing\", \"running\", \"sitting\", \"jogging\", \"looking around\", \"looking away\", \"lingering\"]\n",
        "\n",
        "    # Positions within the image\n",
        "    positions = [\"SCALED on the right side of the overall frame of the empty image\", \"SCALED on the left side of the overall frame of the empty image\", \"SCALED in the center of the overall frame of the empty image\",\n",
        "                 \"SCALED perspectivally in the foreground as a bigger squirrel\", \"SCALED perspectivally in the background as a smaller squirrel\", \"SCALED perspectivally in the midground as a medium size squirrel\"]\n",
        "\n",
        "    # Base prompt\n",
        "    base_prompt = \"A realistic photograph of one singular squirrel by itself with no background image. This cutout of the squirrel is\"\n",
        "\n",
        "    # Generate all possible combinations of activities and positions\n",
        "    combinations = list(itertools.product(activities, positions))\n",
        "\n",
        "    # List to store the generated prompts\n",
        "    prompts = []\n",
        "\n",
        "    for activity, position in combinations:\n",
        "        prompt = f\"{base_prompt} {activity} {position}.\"\n",
        "        prompts.append(prompt)\n",
        "\n",
        "    # Shuffle prompts to add randomness if desired\n",
        "    random.shuffle(prompts)\n",
        "\n",
        "    return prompts"
      ]
    },
    {
      "cell_type": "markdown",
      "metadata": {
        "id": "bHEK2tOJZptk"
      },
      "source": [
        "This snippet of code recalls the `itertools.product` to use words specified in the positions and the activities arguements, creating every possible combination and a comprehensive list of prompt variations. The `prompts` argument intializes an empty list (`[]`) to store each generated prompt. Each combination of an activity and position is then iterated over, creating a full prompt string by appending the activity and position to the  `base_prompt`.\n",
        "\n",
        "The `random.shuffle(prompts)` sequences and shuffles through the list of prompts to ensure they are not in a predictable order to add a degree of randomness. The list of all the generated prompts are then returned to be implemented into the next part of the script.\n",
        "\n"
      ]
    },
    {
      "cell_type": "markdown",
      "metadata": {
        "id": "RbIJ3J2-ZuYV"
      },
      "source": [
        "# Writing each Prompt to a Text File"
      ]
    },
    {
      "cell_type": "markdown",
      "metadata": {
        "id": "3gV6MzDRlNrf"
      },
      "source": [
        "This final module explains the main block of code that executes on the writing of the generated prompts. The number (`num_prompts`) of prompts you want can be specified for image generation, which can be changed depending on how many prompts is the desired amount. `generate_all_prompts()` then calls the function to generate the list of prompts as the `open` arguement is used with the `output_file_path` to open the specified text file in write mode. This also ensures that the text file is properly closed after writing even if an error occurs.\n",
        "\n",
        "Each prompt in the set is iterated through and written through the `file.write` function. The `(f\"{prompt}\\n\")` writes each prompt to the file, adding a newline character (\\n) after each prompt to ensure each one is on a new line. It then saves the `num_prompts` to an output file path and prints a confirmation message with an indication of how many prompts were written as a total of all the possible combinations of the base prompt.\n",
        "\n"
      ]
    },
    {
      "cell_type": "code",
      "execution_count": null,
      "metadata": {
        "id": "RKHtl0n9Z6S9"
      },
      "outputs": [],
      "source": [
        "if __name__ == \"__main__\":\n",
        "    num_prompts = 400  # Total number of prompts\n",
        "    prompts = generate_all_prompts()\n",
        "\n",
        "    # Write the generated prompts to an output text file\n",
        "    with open(output_file_path, \"w\") as file:\n",
        "        for prompt in prompts[:num_prompts]:\n",
        "            file.write(f\"{prompt}\\n\")\n",
        "\n",
        "    print(f\"{num_prompts} prompts have been written to '{output_file_path}'\")"
      ]
    }
  ],
  "metadata": {
    "colab": {
      "authorship_tag": "ABX9TyPX7o/1n/ogEJ26VnrZesJH",
      "collapsed_sections": [
        "pIkroo4ZQ_wc",
        "HPdd1UGHRCy3",
        "9URGTlhERIX9",
        "zstb-0_mWoek",
        "RbIJ3J2-ZuYV"
      ],
      "provenance": []
    },
    "kernelspec": {
      "display_name": "Python 3",
      "name": "python3"
    },
    "language_info": {
      "name": "python"
    }
  },
  "nbformat": 4,
  "nbformat_minor": 0
}