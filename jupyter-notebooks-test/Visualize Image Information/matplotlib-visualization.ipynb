{
  "cells": [
    {
      "cell_type": "markdown",
      "metadata": {},
      "source": [
        "<a target=\"_blank\" href=\"https://colab.research.google.com/github/umanitoba-meagher-projects/public-experiments/blob/main/jupyter-notebooks/Visualize%20Image%20Information/matplotlib-visualization.ipynb\">\n",
        "  <img src=\"https://colab.research.google.com/assets/colab-badge.svg\" alt=\"Open In Colab\"/>\n",
        "</a>"
      ]
    },
    {
      "cell_type": "code",
      "execution_count": null,
      "metadata": {
        "colab": {
          "base_uri": "https://localhost:8080/",
          "height": 87
        },
        "executionInfo": {
          "elapsed": 238,
          "status": "ok",
          "timestamp": 1716831155945,
          "user": {
            "displayName": "Mark Meagher",
            "userId": "03516921898159504860"
          },
          "user_tz": 300
        },
        "id": "ymIJB9vpOH6z",
        "outputId": "4ef4d59d-46ca-4d8e-d1e5-1850da554e73"
      },
      "outputs": [],
      "source": [
        "\"\"\"\n",
        "Authors: Zhenggang Li and Ryleigh J. Bruce\n",
        "Date: May 14th, 2024\n",
        "\n",
        "## Purpose: This notebook is a fast.ai ML model\n",
        "## Note: Note: The authors generated this text in part with GPT-4,\n",
        "OpenAI\u2019s large-scale language-generation model. Upon generating\n",
        "draft code, the authors reviewed, edited, and revised the code\n",
        "to their own liking and takes ultimate responsibility for\n",
        "the content of this code.\n",
        "\"\"\"\n"
      ]
    },
    {
      "cell_type": "markdown",
      "metadata": {
        "id": "tUNPsfNOOH60"
      },
      "source": [
        "# Introduction\n",
        "\n",
        "This notebook is designed to provide a structured workflow for visualizing and analyzing structured data, with a focus on animal image classification and associated metadata. The main purpose is to demonstrate how to read, process, and visualize data from Excel files using Python, specifically in the context of wildlife documentation and machine learning projects. The notebook automates several tasks, including mounting Google Drive for file access, importing necessary libraries, defining file paths, reading data into pandas DataFrames, aggregating data, and generating visualizations with matplotlib. The methodology relies on standard data science tools such as pandas for data manipulation and matplotlib for plotting, with openpyxl used for Excel file handling. The workflow is modular, allowing users to adapt the code for different datasets or analytical objectives by modifying variables or code blocks. The notebook includes examples of grouping and aggregating data, as well as generating bar and line plots to visualize trends and distributions. The benefits of this approach include streamlined data exploration, reproducibility, and the ability to quickly generate informative plots for quality control, exploratory analysis, or reporting. The notebook is intended for users who require a straightforward, script-based approach to data visualization and is structured to support both educational and practical applications in fields such as wildlife documentation, spatial analysis, and architectural studies. The code and markdown cells are organized to facilitate understanding and adaptation, making it suitable for a range of users from beginners to those with more advanced data analysis needs."
      ]
    },
    {
      "cell_type": "markdown",
      "metadata": {
        "id": "zqAvMo6GYL5c"
      },
      "source": [
        "# Critical Uses & Adaptability\n",
        "\n",
        "## What the Notebook Can Be Used For:\n",
        "\n",
        "- **Dataset Exploration:**\n",
        "  - Enables users to read, aggregate, and visualize data from Excel files, supporting initial exploration and identification of patterns or trends in the dataset. The grouping and plotting steps, such as those using pandas `groupby` and matplotlib, are central to this process.\n",
        "\n",
        "- **Educational Purposes & Demonstrations:**\n",
        "  - Functions as a practical example for those learning about Python scripting, data manipulation, and visualization. The notebook demonstrates the use of Python code, scripts, and basic machine learning concepts in working with image-related data, and is suitable for instructional or demonstration purposes.\n",
        "\n",
        "- **Feature Extraction:**\n",
        "  - Provides a basis for extracting features from structured datasets, such as aggregating counts or identifying relationships between variables. The modular design allows for the addition of further code blocks for more advanced feature engineering or integration with machine learning workflows.\n",
        "\n",
        "## How the Notebook Can Be Adapted:\n",
        "\n",
        "- **Integration with Spatial Design & Architectural Studies:**\n",
        "  - The workflow can be adapted for spatial analysis or architectural projects by substituting the dataset with information relevant to site analysis, spatial features, or architectural elements. Aggregation and visualization steps can be used to review and document spatial or design-related data.\n",
        "\n",
        "- **Variables & Customization:**\n",
        "  - Key variables, such as `file_path` and column names used in grouping or plotting, are defined in dedicated code blocks. Users can modify these parameters to adjust the source data, variables of interest, and the type of plots generated, tailoring the workflow to specific project requirements.\n",
        "\n",
        "- **Swapping Datasets:**\n",
        "  - To use a different dataset, change the `file_path` variable in the cell labeled \"File path on Google Drive.\" This allows for straightforward adaptation to new data sources without altering the core logic of the notebook.\n",
        "\n",
        "- **Scalability:**\n",
        "  - The approach is scalable to larger or more complex datasets by adjusting aggregation and plotting parameters. The use of standard Python libraries ensures compatibility with a wide range of data formats and sizes. Additional automation or integration with machine learning models can be incorporated as needed."
      ]
    },
    {
      "cell_type": "markdown",
      "metadata": {
        "id": "me9i8GSwYU9m"
      },
      "source": "## Module: Borealis Data Access"
    },
    {
      "cell_type": "markdown",
      "metadata": {},
      "source": "The following code sets up access to the Borealis data repository to download the required Excel file containing animal data. Borealis is a public data repository that hosts datasets without requiring authentication."
    },
    {
      "cell_type": "code",
      "execution_count": null,
      "metadata": {
        "colab": {
          "base_uri": "https://localhost:8080/"
        },
        "executionInfo": {
          "elapsed": 21808,
          "status": "ok",
          "timestamp": 1715792964929,
          "user": {
            "displayName": "Ryleigh Bruce",
            "userId": "04866625339349492872"
          },
          "user_tz": 300
        },
        "id": "lyXXu1qPOcad",
        "outputId": "0e9c4e71-f06f-4c33-c459-c8bf7cabb2a3"
      },
      "outputs": [],
      "source": [
        "# Borealis API configuration\nimport requests\nimport zipfile\n\nBOREALIS_SERVER = \"https://borealisdata.ca\"\n\ndef get_public_dataset_info(persistent_id):\n    \"\"\"\n    Get information about a public dataset\n    \"\"\"\n    url = f\"{BOREALIS_SERVER}/api/datasets/:persistentId/\"\n    params = {\"persistentId\": persistent_id}\n\n    response = requests.get(url, params=params)\n\n    if response.status_code == 200:\n        dataset_info = response.json()\n    else:\n        print(f\"Cannot access dataset: {response.status_code}\")\n        return None\n    \"\"\"\n    Get a list of files in a public dataset\n    \"\"\"\n    # Access the list of files from the dataset_info dictionary\n    files_list = dataset_info['data']['latestVersion']['files']\n\n    # Create an empty list to store file information\n    file_info_list = []\n\n    # Iterate through the files list and append file ID and filename to the list\n    for file_info in files_list:\n        file_id = file_info['dataFile']['id']\n        filename = file_info['dataFile']['filename']\n        file_info_list.append({\"file_id\": file_id, \"filename\": filename})\n\n    return file_info_list\n\ndef download_public_file(file_id, save_path=\"./\"):\n    \"\"\"\n    Download a specific public file from a dataset by its file ID\n    No authentication required\n    \"\"\"\n    url = f\"{BOREALIS_SERVER}/api/access/datafile/{file_id}\"\n\n    response = requests.get(url, stream=True)\n\n    if response.status_code == 200:\n        # Determine filename from headers or URL\n        filename = None\n        if \"Content-Disposition\" in response.headers:\n            cd = response.headers[\"Content-Disposition\"]\n            # Try to extract filename from content disposition\n            if \"filename=\" in cd:\n                filename = cd.split(\"filename=\")[1].strip('\"')\n\n        # Fallback to extracting from URL if header not available or malformed\n        if not filename:\n             filename = url.split(\"/\")[-1]\n\n        file_path = f\"{save_path}/{filename}\"\n\n        with open(file_path, 'wb') as f:\n            for chunk in response.iter_content(chunk_size=8192):\n                f.write(chunk)\n\n        print(f\"\u2705 File downloaded to {file_path}\")\n        return file_path\n    else:\n        print(f\"\u274c Error {response.status_code}: File may be restricted or not found\")\n        return None\n\n# Initialize Borealis dataset access\npublic_doi = \"doi:10.5683/SP3/H3HGWF\"\n\n# Download the combined_animals.xlsx file\ndataset_files = get_public_dataset_info(public_doi)\nexcel_file_id = None\nfor file_info in dataset_files:\n    if file_info['filename'] == 'combined_animals.xlsx':\n        excel_file_id = file_info['file_id']\n        break\n\nif excel_file_id:\n    print(\"Downloading combined_animals.xlsx...\")\n    downloaded_file = download_public_file(excel_file_id, \"./\")\nelse:\n    print(\"\u274c Could not find combined_animals.xlsx in the dataset\")"
      ]
    },
    {
      "cell_type": "markdown",
      "metadata": {
        "id": "ljRd175FaIkx"
      },
      "source": "This line of code establishes the variable `file_path` to reference the locally downloaded Excel file from the Borealis dataset more efficiently in the following modules."
    },
    {
      "cell_type": "code",
      "execution_count": null,
      "metadata": {
        "id": "qE1JeCVhOgYV"
      },
      "outputs": [],
      "source": [
        "# File path for the downloaded Excel file\nfile_path = './combined_animals.xlsx'"
      ]
    },
    {
      "cell_type": "markdown",
      "metadata": {
        "id": "4gkI0E5Z5ECz"
      },
      "source": [
        "# Generating a Graph using Data From an Excel File"
      ]
    },
    {
      "cell_type": "markdown",
      "metadata": {
        "id": "ftAFezHCOH61"
      },
      "source": [
        "## Module: Import Relevant Python Libraries"
      ]
    },
    {
      "cell_type": "markdown",
      "metadata": {
        "id": "OlGSrfZ-OH61"
      },
      "source": [
        "In this module, we use the `pip` package installer to install the `openpyxl` package, a Python library that is used to easily handle Excel files in Python. This will allow us to write code that will visualize the structured data within an Excel document later on."
      ]
    },
    {
      "cell_type": "code",
      "execution_count": null,
      "metadata": {
        "colab": {
          "base_uri": "https://localhost:8080/"
        },
        "executionInfo": {
          "elapsed": 25108,
          "status": "ok",
          "timestamp": 1715792847618,
          "user": {
            "displayName": "Ryleigh Bruce",
            "userId": "04866625339349492872"
          },
          "user_tz": 300
        },
        "id": "hNJkvu9VOH61",
        "outputId": "99e0e52d-e480-40ff-a4a5-a063f4e89b0d",
        "scrolled": true
      },
      "outputs": [],
      "source": [
        "!pip install openpyxl"
      ]
    },
    {
      "cell_type": "markdown",
      "metadata": {
        "id": "PCv0iAFiOH61"
      },
      "source": [
        "In this module, the `pandas` and `matplotlib.pyplot` libraries are imported under aliases that are more easily recalled in subsequent code. The `pandas` library provides tools that allow for working with structured data, and the `matplotlib.pyplot` library is a plotting library that allows for the creation of visualizations of structured data such as graphs and plots."
      ]
    },
    {
      "cell_type": "code",
      "execution_count": null,
      "metadata": {
        "id": "r1myw7J7OH61"
      },
      "outputs": [],
      "source": [
        "#Import the pandas and matplotlib libraries using aliases\n",
        "import pandas as pd\n",
        "import matplotlib.pyplot as plt"
      ]
    },
    {
      "cell_type": "markdown",
      "metadata": {
        "id": "fePXgjNLOH61"
      },
      "source": [
        "## Module: Using Panda Library to Read an Excel File"
      ]
    },
    {
      "cell_type": "markdown",
      "metadata": {
        "id": "41snRoqtOH61"
      },
      "source": [
        "The module below uses the alias `pd` that was established in the previous module to reference the `pandas` library. The `pd.read_excel()` function is used to read data from the file found in the `variable file_path`, and the `engine='openpyxl'` argument specifies that the `'openpyxl'` engine should be used to read the Excel file. This grants the script access to the data located within the Excel spreadsheet."
      ]
    },
    {
      "cell_type": "code",
      "execution_count": null,
      "metadata": {
        "id": "uySEFgs1OlVN"
      },
      "outputs": [],
      "source": [
        "# Read Excel file\n",
        "df = pd.read_excel(file_path, engine='openpyxl')"
      ]
    },
    {
      "cell_type": "markdown",
      "metadata": {
        "id": "7MEBEguzOH62"
      },
      "source": [
        "## Module: Creating a DataFrame and Aggregating Data Using the Pandas Library"
      ]
    },
    {
      "cell_type": "markdown",
      "metadata": {
        "id": "AyC2kFBzOH62"
      },
      "source": [
        "The following line of code creates the DataFrame `species_sightings`, which groups together rows found in the SpeciesList column consisting of the same value. This allows the script to use the `sum()` function to aggregate the associated values in the SpeciesCount in order to determine the total number of sightings per species in the SpeciesList column."
      ]
    },
    {
      "cell_type": "code",
      "execution_count": null,
      "metadata": {
        "id": "iLV9JsNdOH62",
        "scrolled": true
      },
      "outputs": [],
      "source": [
        "#Process the data to get total sightings for each species\n",
        "species_sightings = df.groupby('SpeciesList')['SpeciesCount'].sum().reset_index()"
      ]
    },
    {
      "cell_type": "markdown",
      "metadata": {
        "id": "K1f2rNKOOH62"
      },
      "source": [
        "## Module: Plotting a Graph Using Extracted Structured Data"
      ]
    },
    {
      "cell_type": "markdown",
      "metadata": {
        "id": "bAr6lZKNOH62"
      },
      "source": [
        "The following module uses functions found within the matplotlib.pyplot library to plot a graph using the extracted data."
      ]
    },
    {
      "cell_type": "markdown",
      "metadata": {
        "id": "QrRkqx7b4J1U"
      },
      "source": [
        "Using the `figsize` attribute the script creates a figure that is ten inches wide and six inches tall to plot the graph within. The script then specifies that the bar chart must be created using the SpeciesList category and associated SpeciesCount values found within the `species_sightings` DataFrame. The color of the bar chart is specified using the `color` parameter."
      ]
    },
    {
      "cell_type": "markdown",
      "metadata": {
        "id": "EACO-x_I4mkb"
      },
      "source": [
        "The desired title for the bar graph is then set, as well as the x-axis and y-axis labels which will aid in graph legibility. The x-axis labels are rotated 45 degrees and are aligned to the right of the x-axis ticks to further enhance legibility."
      ]
    },
    {
      "cell_type": "markdown",
      "metadata": {
        "id": "FZzCG_Lz4o3p"
      },
      "source": [
        "The line plt.tight_layout() automatically adjusts the layout of the bar graph to ensure it fits nicely within the given 10\" x 6\" figure."
      ]
    },
    {
      "cell_type": "code",
      "execution_count": null,
      "metadata": {
        "colab": {
          "base_uri": "https://localhost:8080/",
          "height": 607
        },
        "executionInfo": {
          "elapsed": 645,
          "status": "ok",
          "timestamp": 1715793043354,
          "user": {
            "displayName": "Ryleigh Bruce",
            "userId": "04866625339349492872"
          },
          "user_tz": 300
        },
        "id": "PQ8tlow8OH62",
        "outputId": "c50cf38b-9898-4813-bd18-fb59293a4aed"
      },
      "outputs": [],
      "source": [
        "# Plot the data\n",
        "plt.figure(figsize=(10, 6))\n",
        "plt.bar(species_sightings['SpeciesList'], species_sightings['SpeciesCount'], color='skyblue')\n",
        "\n",
        "# Adding titles and labels\n",
        "plt.title('Total Number of Sightings for Each Animal Species') #adjust to the desired title name\n",
        "plt.xlabel('Animal Species') #adjust to desired x-axis label\n",
        "plt.ylabel('Total Number of Sightings') #adjust to desired y-axis label\n",
        "plt.xticks(rotation=45, ha='right')\n",
        "\n",
        "# Display the plot\n",
        "plt.tight_layout()\n",
        "plt.show()"
      ]
    },
    {
      "cell_type": "markdown",
      "metadata": {
        "id": "dZRFpZ1eOH62"
      },
      "source": [
        "# Manipulating Exisiting Code to Generate Additional Graphs"
      ]
    },
    {
      "cell_type": "markdown",
      "metadata": {
        "id": "qyU5_YJMOH62"
      },
      "source": [
        "Now that a base module of code has been established for generating graphs,  a variety of graphs can be produced by altering simple values within the code."
      ]
    },
    {
      "cell_type": "markdown",
      "metadata": {
        "id": "LDcb8Vka5Y0d"
      },
      "source": [
        "The following line of code creates a `species_sightings` Dataframe grouped around the MoonPhase column in the datasheet by changing the `'SpeciesList`' string to `'MoonPhase'`."
      ]
    },
    {
      "cell_type": "code",
      "execution_count": null,
      "metadata": {
        "id": "c9-wBt5iOH62",
        "scrolled": true
      },
      "outputs": [],
      "source": [
        "#Determine the total number of species sightings during each moon phase\n",
        "species_sightings = df.groupby('MoonPhase')['SpeciesCount'].sum().reset_index()"
      ]
    },
    {
      "cell_type": "markdown",
      "metadata": {
        "id": "ap3O03EkOH62"
      },
      "source": [
        "Since the `matplotlib.pyplot` library was imported previously, the script has access to the production of a range of plotting methods (an extensive list may be found [here](https://matplotlib.org/stable/plot_types/index.html)). To alter the type of plot being produced, simply change the `bar()` function in the second line of the module below to the desired plot type. In this example, it has been changed to `plot()`."
      ]
    },
    {
      "cell_type": "markdown",
      "metadata": {
        "id": "cNwE3r-W56Tt"
      },
      "source": [
        "Graph color can also be altered by changing the value of the `color` parameter to the desired color's name or hexadecimal code. In this example, it has been changed from `'skyblue'` to `'#CCCCFF'`, the hexadecimal code for periwinkle."
      ]
    },
    {
      "cell_type": "code",
      "execution_count": null,
      "metadata": {
        "colab": {
          "base_uri": "https://localhost:8080/",
          "height": 607
        },
        "executionInfo": {
          "elapsed": 650,
          "status": "ok",
          "timestamp": 1715793048062,
          "user": {
            "displayName": "Ryleigh Bruce",
            "userId": "04866625339349492872"
          },
          "user_tz": 300
        },
        "id": "m5_nRI2IOH62",
        "outputId": "34ca3512-238c-4df2-f423-147261c3b4ce"
      },
      "outputs": [],
      "source": [
        "# Plot the data\n",
        "plt.figure(figsize=(10, 6))\n",
        "plt.plot(species_sightings['MoonPhase'], species_sightings['SpeciesCount'], color='#CCCCFF')\n",
        "\n",
        "# Adding titles and labels\n",
        "plt.title('Total Number of Sightings for Each Moon Phase')\n",
        "plt.xlabel('Moon Phase')\n",
        "plt.ylabel('Total Number of Sightings')\n",
        "plt.xticks(rotation=45, ha='right')\n",
        "\n",
        "# Display the plot\n",
        "plt.tight_layout()\n",
        "plt.show()"
      ]
    }
  ],
  "metadata": {
    "accelerator": "GPU",
    "colab": {
      "gpuType": "T4",
      "provenance": []
    },
    "kernelspec": {
      "display_name": "Python 3",
      "name": "python3"
    },
    "language_info": {
      "codemirror_mode": {
        "name": "ipython",
        "version": 3
      },
      "file_extension": ".py",
      "mimetype": "text/x-python",
      "name": "python",
      "nbconvert_exporter": "python",
      "pygments_lexer": "ipython3",
      "version": "3.12.3"
    }
  },
  "nbformat": 4,
  "nbformat_minor": 0
}