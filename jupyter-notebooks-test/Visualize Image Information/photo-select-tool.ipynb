{
  "cells": [
    {
      "cell_type": "markdown",
      "id": "fea75575",
      "metadata": {},
      "source": [
        "<a target=\"_blank\" href=\"https://colab.research.google.com/github/umanitoba-meagher-projects/public-experiments/blob/main/jupyter-notebooks/Visualize%20Image%20Information/photo-select-tool.ipynb\">\n",
        "  <img src=\"https://colab.research.google.com/assets/colab-badge.svg\" alt=\"Open In Colab\"/>\n",
        "</a>"
      ]
    },
    {
      "cell_type": "code",
      "execution_count": null,
      "id": "8a9227e9-cb1a-4b42-9d6b-9c72586adfd3",
      "metadata": {
        "id": "8a9227e9-cb1a-4b42-9d6b-9c72586adfd3"
      },
      "outputs": [],
      "source": [
        "# This is a script that displays an image in the code and allows for quick selection.\n",
        "\"\"\"\n",
        "Author: Zhenggang Li & A.V. Ronquillo\n",
        "Date: May 19, 2024\n",
        "\n",
        "## Purpose: The script extracts photos from the original files, allows for quick manual selection, categorizes the photos, and saves them into the required folders for future use.\n",
        "## Note: The author generated this text in part with GPT-4,\n",
        "OpenAI\u2019s large-scale language-generation model. Upon generating\n",
        "draft code, the author reviewed, edited, and revised the code\n",
        "to their own liking and takes ultimate responsibility for\n",
        "the content of this code.\n",
        "\n",
        "\"\"\""
      ]
    },
    {
      "cell_type": "markdown",
      "id": "45599834-06ce-40b6-9bce-d8d159f24f62",
      "metadata": {
        "id": "45599834-06ce-40b6-9bce-d8d159f24f62"
      },
      "source": [
        "# Module: Introduction\n",
        "This notebook defines a function to display images along with their filenames and includes another main function to manage image selection from a directory.\n",
        "\n",
        "This overall structure is useful for processing large sets of images in manageable chunks, allowing intermittent user control and the option to stop processing."
      ]
    },
    {
      "cell_type": "markdown",
      "id": "3bb3aec5-a0f5-486e-bb57-98938e7d35e7",
      "metadata": {
        "id": "3bb3aec5-a0f5-486e-bb57-98938e7d35e7"
      },
      "source": [
        "# Module: Import Python Packages\n",
        "This module imports the `Image` and display functions from IPython's display module. These are used to display images in Jupyter notebooks or other IPython environments. Next, import the `os` module, which provides functions to interact with the operating system, e.g., path manipulations, directory and file operations. The `shutil` module is also to be imported, which offers high-level file operations such as copying and moving files."
      ]
    },
    {
      "cell_type": "code",
      "execution_count": null,
      "id": "daccf1dd-de48-46f4-afba-fb3af9580b02",
      "metadata": {
        "id": "daccf1dd-de48-46f4-afba-fb3af9580b02"
      },
      "outputs": [],
      "source": [
        "## Import python packages\n",
        "from IPython.display import Image, display\n",
        "import os\n",
        "import shutil"
      ]
    },
    {
      "cell_type": "markdown",
      "id": "38eb9b2e-e3c6-4035-9eea-fea8d658e801",
      "metadata": {
        "id": "38eb9b2e-e3c6-4035-9eea-fea8d658e801"
      },
      "source": [
        "# Module: Printing Image Information\n",
        "\n",
        "\n",
        "This module defines a function `show_image_with_filename` that takes two arguments: `image_path` and `image_number`. This function is designed to display an image in a notebook environment (e.g., Google Colab) and print information about the image.\n",
        "\n",
        "The display function `Image(filename=image_path, width=800)` is specifically used to display the image in the notebook. It creates an image object using the provided image path and sets its width to 800 pixels as an inline display for better visibility. This image object is then passed to the display function to show it in the notebook.\n",
        "\n",
        "The print statement is used to print the `image_number` and the `filename` of the image, while `os.path.basename(image_path)` extracts the filename from the provided image path. As a result, the image is visualized in a notebook environment."
      ]
    },
    {
      "cell_type": "code",
      "execution_count": null,
      "id": "67be2973-d13d-4d4d-a3be-10b4e1c38750",
      "metadata": {
        "id": "67be2973-d13d-4d4d-a3be-10b4e1c38750"
      },
      "outputs": [],
      "source": [
        "## Show images in coding surface\n",
        "def show_image_with_filename(image_path, image_number):\n",
        "    display(Image(filename=image_path, width=800))\n",
        "    ### Adjust image size to suit for screen\n",
        "    print(image_number, \"Image Filename:\", os.path.basename(image_path))"
      ]
    },
    {
      "cell_type": "markdown",
      "id": "731a8202-00c0-4275-9ab9-66da48a531db",
      "metadata": {
        "id": "731a8202-00c0-4275-9ab9-66da48a531db"
      },
      "source": [
        "# Module: Mounting Google Drive & Establish File Directory\n",
        "The data set of images can be accessed by mounting Google Drive and Google CoLab."
      ]
    },
    {
      "cell_type": "code",
      "execution_count": null,
      "id": "b53d3a7c-69e9-4b4c-be9b-a7ce04187d6d",
      "metadata": {
        "id": "b53d3a7c-69e9-4b4c-be9b-a7ce04187d6d"
      },
      "outputs": [],
      "source": [
        "# Set your image directory path\n",
        "# Borealis API configuration\nimport requests\nimport zipfile\n\nBOREALIS_SERVER = \"https://borealisdata.ca\"\n\ndef get_public_dataset_info(persistent_id):\n    \"\"\"\n    Get information about a public dataset\n    \"\"\"\n    url = f\"{BOREALIS_SERVER}/api/datasets/:persistentId/\"\n    params = {\"persistentId\": persistent_id}\n\n    response = requests.get(url, params=params)\n\n    if response.status_code == 200:\n        dataset_info = response.json()\n    else:\n        print(f\"Cannot access dataset: {response.status_code}\")\n        return None\n    \"\"\"\n    Get a list of files in a public dataset\n    \"\"\"\n    # Access the list of files from the dataset_info dictionary\n    files_list = dataset_info['data']['latestVersion']['files']\n\n    # Create an empty list to store file information\n    file_info_list = []\n\n    # Iterate through the files list and append file ID and filename to the list\n    for file_info in files_list:\n        file_id = file_info['dataFile']['id']\n        filename = file_info['dataFile']['filename']\n        file_info_list.append({\"file_id\": file_id, \"filename\": filename})\n\n    return file_info_list\n\ndef download_public_file(file_id, save_path=\"./\"):\n    \"\"\"\n    Download a specific public file from a dataset by its file ID\n    No authentication required\n    \"\"\"\n    url = f\"{BOREALIS_SERVER}/api/access/datafile/{file_id}\"\n\n    response = requests.get(url, stream=True)\n\n    if response.status_code == 200:\n        # Determine filename from headers or URL\n        filename = None\n        if \"Content-Disposition\" in response.headers:\n            cd = response.headers[\"Content-Disposition\"]\n            # Try to extract filename from content disposition\n            if \"filename=\" in cd:\n                filename = cd.split(\"filename=\")[1].strip('\"')\n\n        # Fallback to extracting from URL if header not available or malformed\n        if not filename:\n             filename = url.split(\"/\")[-1]\n\n        file_path = f\"{save_path}/{filename}\"\n\n        with open(file_path, 'wb') as f:\n            for chunk in response.iter_content(chunk_size=8192):\n                f.write(chunk)\n\n        print(f\"SUCCESS: File downloaded to {file_path}\")\n        return file_path\n    else:\n        print(f\"ERROR: {response.status_code}: File may be restricted or not found\")\n        return None\n\ndef is_zip_file(filepath):\n    \"\"\"\n    Checks if a file is a valid zip file.\n    \"\"\"\n    return zipfile.is_zipfile(filepath)\n\ndef unzip_file(filepath, extract_path=\"./\"):\n    \"\"\"\n    Unzips a zip file to a specified path and returns the name of the top-level extracted folder.\n    Returns None if not a zip file or extraction fails.\n    \"\"\"\n    if is_zip_file(filepath):\n        try:\n            with zipfile.ZipFile(filepath, 'r') as zip_ref:\n                # Get the name of the top-level directory within the zip\n                # Assumes there is a single top-level directory\n                top_level_folder = None\n                for file_info in zip_ref.infolist():\n                    parts = file_info.filename.split('/')\n                    if parts[0] and len(parts) > 1:\n                        top_level_folder = parts[0]\n                        break # Assuming the first entry gives the top-level folder\n\n                zip_ref.extractall(extract_path)\n                print(f\"SUCCESS: Successfully unzipped {filepath} to {extract_path}\")\n                return top_level_folder\n\n        except Exception as e:\n            print(f\"ERROR: Error unzipping {filepath}: {e}\")\n            return None\n    else:\n        print(f\"INFO: {filepath} is not a valid zip file.\")\n        return None\n\n# Initialize Borealis dataset access\npublic_doi = \"doi:10.5683/SP3/H3HGWF\"\nprint(\"Borealis dataset initialized for animal notebook data.\")",
        "# File path on Google Drive\n",
        "file_path = './cat-100'"
      ]
    },
    {
      "cell_type": "markdown",
      "id": "75581980-4b0a-413e-8a52-646b3a0a43c5",
      "metadata": {
        "id": "75581980-4b0a-413e-8a52-646b3a0a43c5"
      },
      "source": [
        "The `main()` program is defined. Two directory paths are declared, one is the source directory containing the images (`file_path`) and the other is the destination directory for selected images (`selected_dir`)."
      ]
    },
    {
      "cell_type": "code",
      "execution_count": null,
      "id": "f4739825-3b57-4d6d-8236-e67f60ec50dc",
      "metadata": {
        "id": "f4739825-3b57-4d6d-8236-e67f60ec50dc"
      },
      "outputs": [],
      "source": [
        "## Set path\n",
        "def main():\n",
        "    file_path = './cat-100'\n",
        "    select_dir = './cat-100-select'"
      ]
    },
    {
      "cell_type": "markdown",
      "id": "aad9caf1-4d09-43d7-bdbe-028c706319a5",
      "metadata": {
        "id": "aad9caf1-4d09-43d7-bdbe-028c706319a5"
      },
      "source": [
        "After establishing the file paths, we must use an `if not` statement to check if the `selected_dir` exists. If it does not, `os.makedirs(select_dir)` creates it along with any necessary parent directories."
      ]
    },
    {
      "cell_type": "code",
      "execution_count": null,
      "id": "3168f7d7-a109-460c-8a9a-67e7a80c1dd0",
      "metadata": {
        "id": "3168f7d7-a109-460c-8a9a-67e7a80c1dd0"
      },
      "outputs": [],
      "source": [
        "    if not os.path.exists(select_dir):\n",
        "        os.makedirs(select_dir)"
      ]
    },
    {
      "cell_type": "markdown",
      "id": "493a258b-d161-4800-bac6-33d4c56ea2ff",
      "metadata": {
        "id": "493a258b-d161-4800-bac6-33d4c56ea2ff"
      },
      "source": [
        "# Module: Sorting Images into Batches\n",
        "`os.listdir(file_path)` lists the names of the entries in the `file_path` while `images.sort(...)` sorts the images based on their modification time, where oldest comes first. After this, the total count of images in the directory are accounted for."
      ]
    },
    {
      "cell_type": "code",
      "execution_count": null,
      "id": "45d9b2ff-5013-421c-831e-7e5fd58b50c5",
      "metadata": {
        "id": "45d9b2ff-5013-421c-831e-7e5fd58b50c5"
      },
      "outputs": [],
      "source": [
        "    images = os.listdir(file_path)\n",
        "    images.sort(key=lambda x: os.path.getmtime(os.path.join(file_path, x)))\n",
        "    total_images = len(images)"
      ]
    },
    {
      "cell_type": "markdown",
      "id": "27245684-f72c-4799-991d-0893ea09f007",
      "metadata": {
        "id": "27245684-f72c-4799-991d-0893ea09f007"
      },
      "source": [
        "The script then initializes batch processing parameters. The images are put into a `batch_size` and defines how many images will be processed per batch, in this case the `current_batch` is `0` but it will be `100` images each batch."
      ]
    },
    {
      "cell_type": "code",
      "execution_count": null,
      "id": "1c5bfe4d-ea5b-4c9b-95c9-3edb73e514c8",
      "metadata": {
        "id": "1c5bfe4d-ea5b-4c9b-95c9-3edb73e514c8"
      },
      "outputs": [],
      "source": [
        "    batch_size = 100 ### Seperate total images to multi-batch\uff0ceach batch have 100 images\n",
        "    current_batch = 0"
      ]
    },
    {
      "cell_type": "markdown",
      "id": "0fde6171-0e7c-4272-ad04-5d65f87d0035",
      "metadata": {
        "id": "0fde6171-0e7c-4272-ad04-5d65f87d0035"
      },
      "source": [
        "# Module: Displaying Numbered Images through Loops\n",
        "This module utilizes a `for` loop statement to iterate over each image. For each image, its full path (`image_path`) is determined and the image is displayed with its number. Then, `input` is requested from the user to select the image or not."
      ]
    },
    {
      "cell_type": "code",
      "execution_count": null,
      "id": "2ff3128c-09db-4469-86a2-23fef96eeb67",
      "metadata": {
        "id": "2ff3128c-09db-4469-86a2-23fef96eeb67"
      },
      "outputs": [],
      "source": [
        "    ## Set and show the number for each image\n",
        "    for i, image in enumerate(images):\n",
        "        image_path = os.path.join(file_path, image)\n",
        "        image_number = i + 1  ### iamge number start at 1\n",
        "        show_image_with_filename(image_path, image_number)\n",
        "        choice = input(\"Do you want to select this image? (y/n): \")"
      ]
    },
    {
      "cell_type": "markdown",
      "id": "388f9517-ca5d-4e72-ba97-e165ac93d011",
      "metadata": {
        "id": "388f9517-ca5d-4e72-ba97-e165ac93d011"
      },
      "source": [
        "# Module: Processing the User Input\n",
        "\n",
        "Users are prompted to make decisions about images viewed. This piece specifically deals with interpreting user responses. User input determines whether to keep the image, discard it, or delete it entirely.\n",
        "\n",
        "The `choice.strip()` takes the choice string inputted by the user and removes any surrounding whitespace (spaces, tabs, newlines, etc.). It then checks if the result is an empty string (''), which would mean that the user simply pressed \"Enter\" without typing anything. `choice = 'y'` is inputted if the condition is true that the user only pressed \"Enter\" and the script assigns the string 'y' to choice. This essentially defaults the choice to 'yes' when the user does not input any specific answer."
      ]
    },
    {
      "cell_type": "code",
      "execution_count": null,
      "id": "94b82453-c2a4-4713-a8b7-60760503f5d3",
      "metadata": {
        "id": "94b82453-c2a4-4713-a8b7-60760503f5d3"
      },
      "outputs": [],
      "source": [
        "        ### Press ENTER=y\n",
        "        if choice.strip() == '':\n",
        "            choice = 'y'"
      ]
    },
    {
      "cell_type": "markdown",
      "id": "c73a812e-a986-49b7-8034-dcd1ca9663f8",
      "metadata": {
        "id": "c73a812e-a986-49b7-8034-dcd1ca9663f8"
      },
      "source": [
        "In continuation, `elif choice.lower()` converts the choice string to lowercase and checks if it is `'d'`. If the choice is indeed `'d'`, the function from the `os` module will delete the file located at `image_path`, effectively removing the image from the file system.\n",
        "\n",
        "`continue` then immediately ends the current iteration of the loop and starts the next image in the loop. This means that the the file is deleted, there is no need to execute further code specific to this iteration (like copying/moving the file)."
      ]
    },
    {
      "cell_type": "code",
      "execution_count": null,
      "id": "b4cc7f74-6fc7-435b-840e-54f10ed718d1",
      "metadata": {
        "id": "b4cc7f74-6fc7-435b-840e-54f10ed718d1"
      },
      "outputs": [],
      "source": [
        "        elif choice.lower() == 'd':\n",
        "            os.remove(image_path)\n",
        "            continue"
      ]
    },
    {
      "cell_type": "markdown",
      "id": "a67171b8-a45a-4a39-9a1c-563c00ac5e2a",
      "metadata": {
        "id": "a67171b8-a45a-4a39-9a1c-563c00ac5e2a"
      },
      "source": [
        "Similarly, `elif choice.lower()` checks if the user's input, when converted to lowercase, equals `'n'`. If the choice is `'n'`, the loop skips the rest of the code in the current iteration and proceeds to the next image. However, in this context, `'n'` indicates the user does not select the image, so no action (like copying or moving the image) is taken, and the loop just moves on."
      ]
    },
    {
      "cell_type": "code",
      "execution_count": null,
      "id": "1c536178-1669-477d-a740-69fc12a10008",
      "metadata": {
        "id": "1c536178-1669-477d-a740-69fc12a10008"
      },
      "outputs": [],
      "source": [
        "        elif choice.lower() == 'n':\n",
        "            continue"
      ]
    },
    {
      "cell_type": "markdown",
      "id": "cbc2bf00-e038-4145-bade-434429c2bc9d",
      "metadata": {
        "id": "cbc2bf00-e038-4145-bade-434429c2bc9d"
      },
      "source": [
        "If `'y'` is the choice, it moves the images to the `select_dir`, the destination directory."
      ]
    },
    {
      "cell_type": "code",
      "execution_count": null,
      "id": "05ee4258-f7c1-4d71-9765-3d508efb3a81",
      "metadata": {
        "id": "05ee4258-f7c1-4d71-9765-3d508efb3a81"
      },
      "outputs": [],
      "source": [
        "        if choice.lower() == 'y':\n",
        "            shutil.move(image_path, os.path.join(select_dir, image))"
      ]
    },
    {
      "cell_type": "markdown",
      "id": "86b3f52b-a256-40f3-8130-5fec61b48f5f",
      "metadata": {
        "id": "86b3f52b-a256-40f3-8130-5fec61b48f5f"
      },
      "source": [
        "# Module: Batch Completion Check\n",
        "This module is designed to process groups of images batch-wise and checks at each image whether that image completes a batch or is the last in the series of images.\n",
        "\n",
        "To run this module, firstly, a conditional `if` statement to check if the current image `i + 1` (in which 'i' is likely zero-based index) is either the last image of the current batch `(i + 1) % batch_size == 0` or the last image in the total set of images `(i + 1) == total_images`. The `batch_size` is a predefined number representing how many images are processed in one batch."
      ]
    },
    {
      "cell_type": "code",
      "execution_count": null,
      "id": "8e8acd71-8fad-4c3a-94d1-c3397fa35191",
      "metadata": {
        "id": "8e8acd71-8fad-4c3a-94d1-c3397fa35191"
      },
      "outputs": [],
      "source": [
        "        if (i + 1) % batch_size == 0 or (i + 1) == total_images:"
      ]
    },
    {
      "cell_type": "markdown",
      "id": "422234b9-9304-4d46-9579-83d1a533b6d2",
      "metadata": {
        "id": "422234b9-9304-4d46-9579-83d1a533b6d2"
      },
      "source": [
        "A batch counter increment then occurs. If the condition is true, this increments a counter `current_batch` that tracks which batch is currently being processed."
      ]
    },
    {
      "cell_type": "code",
      "execution_count": null,
      "id": "730aabe5-b441-4817-8305-3b771ffbb7f0",
      "metadata": {
        "id": "730aabe5-b441-4817-8305-3b771ffbb7f0"
      },
      "outputs": [],
      "source": [
        "            current_batch += 1"
      ]
    },
    {
      "cell_type": "markdown",
      "id": "a29a8a12-c636-4841-99c0-ac4336af7439",
      "metadata": {
        "id": "a29a8a12-c636-4841-99c0-ac4336af7439"
      },
      "source": [
        "After the increment, the batch completion check can be tested. This code checks if the current batch is not the last batch. The expression `total_images // batch_size` calculates the total number of complete batches possible with the given number of images.\n",
        "\n",
        "If the current batch is not the last batch, it prompts the user to decide whether to proceed with the next batch. If the user does not respond with `'y'` (yes), the loop (or batch processing) breaks, and it stops any further processing through a `break`."
      ]
    },
    {
      "cell_type": "code",
      "execution_count": null,
      "id": "2470cd17-af3b-472d-82e9-c8c2e0912020",
      "metadata": {
        "id": "2470cd17-af3b-472d-82e9-c8c2e0912020"
      },
      "outputs": [],
      "source": [
        "            if current_batch != total_images // batch_size:\n",
        "                next_batch = input(\"Do you want to start the next batch? (y/n): \")\n",
        "                if next_batch.lower() != 'y':\n",
        "                    break"
      ]
    },
    {
      "cell_type": "markdown",
      "id": "bcb2e666-f410-4f3c-95b3-a8a1648652d6",
      "metadata": {
        "id": "bcb2e666-f410-4f3c-95b3-a8a1648652d6"
      },
      "source": [
        "# Module: Print Statements of Completion"
      ]
    },
    {
      "cell_type": "markdown",
      "id": "3133f6b4-4fb4-42a5-ad69-42a5810e8904",
      "metadata": {
        "id": "3133f6b4-4fb4-42a5-ad69-42a5810e8904"
      },
      "source": [
        "A message is printed indicating that the `current_batch` has been completed succesfully, showing which batch number just finished. After all batches are processed or the loop is exited early, `\"Program copmpleted succesfully\"` is printed to show that the program has run its course, either by completing all batches or by user interruption."
      ]
    },
    {
      "cell_type": "code",
      "execution_count": null,
      "id": "6837dda1-b9a8-4046-b097-f8be7e6b6773",
      "metadata": {
        "id": "6837dda1-b9a8-4046-b097-f8be7e6b6773"
      },
      "outputs": [],
      "source": [
        "            print(\"Program completed\", current_batch, \"successfully.\")\n",
        "\n",
        "    print(\"Program completed successfully.\")"
      ]
    },
    {
      "cell_type": "markdown",
      "id": "06897d97-8261-4b5a-beec-4e4a6795e72b",
      "metadata": {
        "id": "06897d97-8261-4b5a-beec-4e4a6795e72b"
      },
      "source": [
        "# Module: Trigger the Main Function\n",
        "This is executed only if the file was run as a script, not imported as a module. It essentially calls the `main()` function, which presumably contains the rest of the script, including setting up variables like `batch_size`, initializing `current_batch`, and looping through the images."
      ]
    },
    {
      "cell_type": "code",
      "execution_count": null,
      "id": "76c8d389-d1f9-49d3-ad7e-9fedb3e5f700",
      "metadata": {
        "id": "76c8d389-d1f9-49d3-ad7e-9fedb3e5f700"
      },
      "outputs": [],
      "source": [
        "if __name__ == '__main__':\n",
        "    main()"
      ]
    },
    {
      "cell_type": "code",
      "execution_count": null,
      "id": "1af58a8c-b06b-456b-a026-69d8b3b128e1",
      "metadata": {
        "colab": {
          "base_uri": "https://localhost:8080/",
          "height": 1000,
          "output_embedded_package_id": "1kquB1D0ZMnAvgjP8lCwmerJ22zPVOWXP"
        },
        "executionInfo": {
          "elapsed": 440306,
          "status": "ok",
          "timestamp": 1716326521061,
          "user": {
            "displayName": "Alessandra Vivien Ronquillo",
            "userId": "08795784541069031510"
          },
          "user_tz": 300
        },
        "id": "1af58a8c-b06b-456b-a026-69d8b3b128e1",
        "outputId": "6ea1990f-70a6-4e9e-8f41-808e08569ab8"
      },
      "outputs": [],
      "source": [
        "## import python packages\n",
        "from IPython.display import Image, display\n",
        "import os\n",
        "import shutil\n",
        "\n",
        "## Show images in coding surface\n",
        "def show_image_with_filename(image_path, image_number):\n",
        "    display(Image(filename=image_path, width=800))  ### adjust image size to suit for screen\n",
        "    print(image_number, \"Image Filename:\", os.path.basename(image_path))\n",
        "\n",
        "# Set your image directory path\n",
        "# Borealis API configuration\nimport requests\nimport zipfile\n\nBOREALIS_SERVER = \"https://borealisdata.ca\"\n\ndef get_public_dataset_info(persistent_id):\n    \"\"\"\n    Get information about a public dataset\n    \"\"\"\n    url = f\"{BOREALIS_SERVER}/api/datasets/:persistentId/\"\n    params = {\"persistentId\": persistent_id}\n\n    response = requests.get(url, params=params)\n\n    if response.status_code == 200:\n        dataset_info = response.json()\n    else:\n        print(f\"Cannot access dataset: {response.status_code}\")\n        return None\n    \"\"\"\n    Get a list of files in a public dataset\n    \"\"\"\n    # Access the list of files from the dataset_info dictionary\n    files_list = dataset_info['data']['latestVersion']['files']\n\n    # Create an empty list to store file information\n    file_info_list = []\n\n    # Iterate through the files list and append file ID and filename to the list\n    for file_info in files_list:\n        file_id = file_info['dataFile']['id']\n        filename = file_info['dataFile']['filename']\n        file_info_list.append({\"file_id\": file_id, \"filename\": filename})\n\n    return file_info_list\n\ndef download_public_file(file_id, save_path=\"./\"):\n    \"\"\"\n    Download a specific public file from a dataset by its file ID\n    No authentication required\n    \"\"\"\n    url = f\"{BOREALIS_SERVER}/api/access/datafile/{file_id}\"\n\n    response = requests.get(url, stream=True)\n\n    if response.status_code == 200:\n        # Determine filename from headers or URL\n        filename = None\n        if \"Content-Disposition\" in response.headers:\n            cd = response.headers[\"Content-Disposition\"]\n            # Try to extract filename from content disposition\n            if \"filename=\" in cd:\n                filename = cd.split(\"filename=\")[1].strip('\"')\n\n        # Fallback to extracting from URL if header not available or malformed\n        if not filename:\n             filename = url.split(\"/\")[-1]\n\n        file_path = f\"{save_path}/{filename}\"\n\n        with open(file_path, 'wb') as f:\n            for chunk in response.iter_content(chunk_size=8192):\n                f.write(chunk)\n\n        print(f\"SUCCESS: File downloaded to {file_path}\")\n        return file_path\n    else:\n        print(f\"ERROR: {response.status_code}: File may be restricted or not found\")\n        return None\n\ndef is_zip_file(filepath):\n    \"\"\"\n    Checks if a file is a valid zip file.\n    \"\"\"\n    return zipfile.is_zipfile(filepath)\n\ndef unzip_file(filepath, extract_path=\"./\"):\n    \"\"\"\n    Unzips a zip file to a specified path and returns the name of the top-level extracted folder.\n    Returns None if not a zip file or extraction fails.\n    \"\"\"\n    if is_zip_file(filepath):\n        try:\n            with zipfile.ZipFile(filepath, 'r') as zip_ref:\n                # Get the name of the top-level directory within the zip\n                # Assumes there is a single top-level directory\n                top_level_folder = None\n                for file_info in zip_ref.infolist():\n                    parts = file_info.filename.split('/')\n                    if parts[0] and len(parts) > 1:\n                        top_level_folder = parts[0]\n                        break # Assuming the first entry gives the top-level folder\n\n                zip_ref.extractall(extract_path)\n                print(f\"SUCCESS: Successfully unzipped {filepath} to {extract_path}\")\n                return top_level_folder\n\n        except Exception as e:\n            print(f\"ERROR: Error unzipping {filepath}: {e}\")\n            return None\n    else:\n        print(f\"INFO: {filepath} is not a valid zip file.\")\n        return None\n\n# Initialize Borealis dataset access\npublic_doi = \"doi:10.5683/SP3/H3HGWF\"\nprint(\"Borealis dataset initialized for animal notebook data.\")",
        "# File path on Google Drive\n",
        "file_path = './cat-100'\n",
        "\n",
        "## Set path\n",
        "def main():\n",
        "    file_path = './cat-100'\n",
        "    select_dir = './cat-100-select'\n",
        "\n",
        "    if not os.path.exists(select_dir):\n",
        "        os.makedirs(select_dir)\n",
        "\n",
        "    images = os.listdir(file_path)\n",
        "    images.sort(key=lambda x: os.path.getmtime(os.path.join(file_path, x)))\n",
        "    total_images = len(images)\n",
        "    batch_size = 100 ### separate total images to multi-batch\uff0ceach batch have 100 images\n",
        "    current_batch = 0\n",
        "\n",
        "    ## Set and show the number for each image\n",
        "    for i, image in enumerate(images):\n",
        "        image_path = os.path.join(file_path, image)\n",
        "        image_number = i + 1  ### image number start at 1\n",
        "        show_image_with_filename(image_path, image_number)\n",
        "        choice = input(\"Do you want to select this image? (y/n): \")\n",
        "\n",
        "        ### press ENTER=y\n",
        "        if choice.strip() == '':\n",
        "            choice = 'y'\n",
        "        elif choice.lower() == 'd':\n",
        "            os.remove(image_path)\n",
        "            continue\n",
        "        elif choice.lower() == 'n':\n",
        "            continue\n",
        "\n",
        "        if choice.lower() == 'y':\n",
        "            shutil.move(image_path, os.path.join(select_dir, image))\n",
        "\n",
        "        if (i + 1) % batch_size == 0 or (i + 1) == total_images:\n",
        "            current_batch += 1\n",
        "            if current_batch != total_images // batch_size:\n",
        "                next_batch = input(\"Do you want to start the next batch? (y/n): \")\n",
        "                if next_batch.lower() != 'y':\n",
        "                    break\n",
        "            print(\"Program completed\", current_batch, \"successfully.\")\n",
        "\n",
        "    print(\"Program completed successfully.\")\n",
        "\n",
        "if __name__ == '__main__':\n",
        "    main()"
      ]
    }
  ],
  "metadata": {
    "colab": {
      "provenance": []
    },
    "kernelspec": {
      "display_name": "Python 3 (ipykernel)",
      "language": "python",
      "name": "python3"
    },
    "language_info": {
      "codemirror_mode": {
        "name": "ipython",
        "version": 3
      },
      "file_extension": ".py",
      "mimetype": "text/x-python",
      "name": "python",
      "nbconvert_exporter": "python",
      "pygments_lexer": "ipython3",
      "version": "3.12.3"
    }
  },
  "nbformat": 4,
  "nbformat_minor": 5
}